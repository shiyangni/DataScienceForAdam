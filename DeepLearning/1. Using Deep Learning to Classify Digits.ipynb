{
 "cells": [
  {
   "cell_type": "markdown",
   "metadata": {},
   "source": [
    "# Chapter 1. Deep learning basics"
   ]
  },
  {
   "cell_type": "code",
   "execution_count": 20,
   "metadata": {},
   "outputs": [],
   "source": [
    "import numpy as np\n",
    "from IPython.core.interactiveshell import InteractiveShell\n",
    "InteractiveShell.ast_node_interactivity = \"all\"\n"
   ]
  },
  {
   "cell_type": "markdown",
   "metadata": {},
   "source": [
    "## Perceptrons"
   ]
  },
  {
   "cell_type": "markdown",
   "metadata": {},
   "source": [
    "A perceptron is a mapping from $f:(x_1, ..., x_n) \\rightarrow \\{0,1\\}$, whereby a __perceptron weights, sums (with bias) and thresholds__ the input.\n",
    "\n",
    "We test the fact that a small change in parameters might cause a big change in the network output. We build perceptrons first, then build a vanilla network."
   ]
  },
  {
   "cell_type": "code",
   "execution_count": 67,
   "metadata": {},
   "outputs": [],
   "source": [
    "##Building a perceptron\n",
    "class Perceptron:  \n",
    "    randomShit = 5\n",
    "    def __init__(self, num_of_inputs):\n",
    "        self.num_inputs = num_of_inputs\n",
    "        self.bias = np.random.uniform(0,1)\n",
    "        self.weights = np.random.normal(0,1,self.num_inputs)\n",
    "    def setWeights(self, *args):\n",
    "        self.weights = np.array(args)\n",
    "    def setBias(self, bias):\n",
    "        self.bias = bias    \n",
    "    def output(self, *args):\n",
    "        variables = np.array(args)\n",
    "        raw_output = np.sum(np.multiply(variables, self.weights)) + self.bias\n",
    "        return int(raw_output >= 0)\n",
    "    \n",
    "class Layer:\n",
    "    def __init__(self, num_of_perceptrons, num_of_inputs):\n",
    "        self.num_of_perceptrons = num_of_perceptrons\n",
    "        self.num_of_inputs = num_of_inputs\n",
    "        self.perceptrons = np.array([Perceptron(self.num_of_inputs) for i in range(self.num_of_perceptrons)])\n",
    "    def output(self, *args):\n",
    "        return np.array([self.perceptrons[i].output(args) for i in range(self.num_of_perceptrons)])\n",
    "    "
   ]
  },
  {
   "cell_type": "code",
   "execution_count": 65,
   "metadata": {},
   "outputs": [
    {
     "data": {
      "text/plain": [
       "array([-0.95209721, -0.74544106,  1.73837013])"
      ]
     },
     "execution_count": 65,
     "metadata": {},
     "output_type": "execute_result"
    },
    {
     "data": {
      "text/plain": [
       "0.6964691855978616"
      ]
     },
     "execution_count": 65,
     "metadata": {},
     "output_type": "execute_result"
    },
    {
     "data": {
      "text/plain": [
       "1"
      ]
     },
     "execution_count": 65,
     "metadata": {},
     "output_type": "execute_result"
    }
   ],
   "source": [
    "## Trying out one output\n",
    "np.random.seed(123)\n",
    "p1 = Perceptron(3)\n",
    "p1.weights\n",
    "p1.bias\n",
    "p1.output(0,1,2)"
   ]
  },
  {
   "cell_type": "code",
   "execution_count": 66,
   "metadata": {},
   "outputs": [
    {
     "data": {
      "text/plain": [
       "array([1, 0, 1, 0, 1])"
      ]
     },
     "execution_count": 66,
     "metadata": {},
     "output_type": "execute_result"
    }
   ],
   "source": [
    "## Trying out one layer\n",
    "np.random.seed(123)\n",
    "l1 = Layer(5, 3)\n",
    "l1.output(0,1,2)"
   ]
  },
  {
   "cell_type": "code",
   "execution_count": 69,
   "metadata": {},
   "outputs": [
    {
     "data": {
      "text/plain": [
       "5"
      ]
     },
     "execution_count": 69,
     "metadata": {},
     "output_type": "execute_result"
    }
   ],
   "source": [
    "Perceptron.randomShit"
   ]
  },
  {
   "cell_type": "code",
   "execution_count": 24,
   "metadata": {},
   "outputs": [
    {
     "data": {
      "text/plain": [
       "array([1, 2, 3])"
      ]
     },
     "execution_count": 24,
     "metadata": {},
     "output_type": "execute_result"
    }
   ],
   "source": [
    "def output(*args):\n",
    "    return np.array(args)\n",
    "\n",
    "output(1,2,3)"
   ]
  },
  {
   "cell_type": "code",
   "execution_count": 13,
   "metadata": {},
   "outputs": [
    {
     "data": {
      "text/plain": [
       "array([0., 0., 0.])"
      ]
     },
     "execution_count": 13,
     "metadata": {},
     "output_type": "execute_result"
    }
   ],
   "source": [
    "np.zeros(3)"
   ]
  }
 ],
 "metadata": {
  "kernelspec": {
   "display_name": "Python 3",
   "language": "python",
   "name": "python3"
  },
  "language_info": {
   "codemirror_mode": {
    "name": "ipython",
    "version": 3
   },
   "file_extension": ".py",
   "mimetype": "text/x-python",
   "name": "python",
   "nbconvert_exporter": "python",
   "pygments_lexer": "ipython3",
   "version": "3.7.4"
  }
 },
 "nbformat": 4,
 "nbformat_minor": 2
}
