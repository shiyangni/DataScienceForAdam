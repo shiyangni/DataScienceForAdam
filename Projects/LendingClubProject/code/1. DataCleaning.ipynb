{
 "cells": [
  {
   "cell_type": "markdown",
   "metadata": {},
   "source": [
    "## 1. Data Cleaning\n",
    "\n",
    "We follow the __Quartz: Bad Data Guide__ at https://github.com/Quartz/bad-data-guide, and conduct the following steps:\n",
    "\n",
    "1. Check data size before reading-in. As a rule of thumb, the data size should be at most 1/4 of the computer's RAM.\n",
    "1. Summarize the variables through grouping. Understand the meaning of each variable, and group them into meaningful baskets.\n",
    "1. Inspect missing values. Analyze their causes, and decides what to do with them.\n",
    "1. Variable transformation. \n",
    "    - Properly format variables. For dates, convert them into computable formats; for texts, remove the redundencies and check for spelling; for numerical values, make sure the units are consistent. \n",
    "    - Expand the scope of data. Can we include more variables that might be of interest?\n",
    "\n",
    "\n",
    "\n",
    "\n",
    "We first do each step manually, then wrap our actions into functions so that the process is more replicable on new datasets. We export the cleaned training and test set."
   ]
  },
  {
   "cell_type": "code",
   "execution_count": 1,
   "metadata": {},
   "outputs": [],
   "source": [
    "import numpy as np\n",
    "import pandas as pd\n",
    "import matplotlib.pyplot as plt\n",
    "import seaborn as sns\n",
    "import string\n",
    "\n",
    "from IPython.core.interactiveshell import InteractiveShell\n",
    "InteractiveShell.ast_node_interactivity = \"all\"\n",
    "\n",
    "pd.set_option('display.max_columns', 200)\n",
    "sns.set()"
   ]
  },
  {
   "cell_type": "markdown",
   "metadata": {},
   "source": [
    "### 1.1 Data Size & First Peek"
   ]
  },
  {
   "cell_type": "code",
   "execution_count": 2,
   "metadata": {},
   "outputs": [
    {
     "name": "stdout",
     "output_type": "stream",
     "text": [
      "total 33M\n",
      "drwxr-xr-x 1 nleea 197609    0 Dec  7 21:54 census_data\n",
      "-rw-r--r-- 1 nleea 197609 4.0M Dec  7 21:55 census_data.zip\n",
      "-rw-r--r-- 1 nleea 197609 336K Dec  3 18:33 LendingClubData_new_training.xlsx\n",
      "-rw-r--r-- 1 nleea 197609 1.5M Nov  7 18:52 LendingClubData_testing.xlsx\n",
      "-rw-r--r-- 1 nleea 197609  16M Dec  2 14:45 LendingClubData_training.xlsx\n",
      "drwxr-xr-x 1 nleea 197609    0 Dec  3 02:59 statewide_monthly_unemployment\n",
      "-rw-r--r-- 1 nleea 197609 1.1M Dec  7 14:44 test_cleaned.xlsx\n",
      "-rw-r--r-- 1 nleea 197609  11M Dec  7 14:44 training_cleaned.xlsx\n",
      "-rw-r--r-- 1 nleea 197609  25K Dec  3 03:01 unemployment.csv\n",
      "-rw-r--r-- 1 nleea 197609 294K Dec  3 08:55 us_company_names_industries.xlsx\n",
      "-rw-r--r-- 1 nleea 197609  849 Dec  3 17:10 us_quarterly_gdp_growth.csv\n"
     ]
    }
   ],
   "source": [
    "!ls -lh ../data"
   ]
  },
  {
   "cell_type": "markdown",
   "metadata": {},
   "source": [
    "The raw data is about 16MB, safe to read into a RAM of 8GB.  "
   ]
  },
  {
   "cell_type": "code",
   "execution_count": 3,
   "metadata": {},
   "outputs": [
    {
     "name": "stdout",
     "output_type": "stream",
     "text": [
      "Wall time: 31.2 s\n"
     ]
    }
   ],
   "source": [
    "%%time\n",
    "## Reading in the dataset\n",
    "rawTraining = pd.read_excel(\"../data/LendingClubData_training.xlsx\")\n",
    "rawTest = pd.read_excel(\"../data/LendingClubData_testing.xlsx\")"
   ]
  },
  {
   "cell_type": "markdown",
   "metadata": {},
   "source": [
    "The training set contains 35808 rows, and the test set 3978 rows; both contain the same set of 145 features. Our training to test sample size is very close to 9:1."
   ]
  },
  {
   "cell_type": "code",
   "execution_count": 4,
   "metadata": {},
   "outputs": [
    {
     "data": {
      "text/plain": [
       "(35808, 145)"
      ]
     },
     "execution_count": 4,
     "metadata": {},
     "output_type": "execute_result"
    },
    {
     "data": {
      "text/plain": [
       "(3978, 145)"
      ]
     },
     "execution_count": 4,
     "metadata": {},
     "output_type": "execute_result"
    },
    {
     "data": {
      "text/plain": [
       "9.001508295625943"
      ]
     },
     "execution_count": 4,
     "metadata": {},
     "output_type": "execute_result"
    }
   ],
   "source": [
    "rawTraining.shape\n",
    "# rawTraining.head(5)\n",
    "rawTest.shape\n",
    "# rawTest.head(5)\n",
    "rawTraining.shape[0] / rawTest.shape[0]"
   ]
  },
  {
   "cell_type": "markdown",
   "metadata": {},
   "source": [
    "A quick peek shows that out of the 145 features, 83 are completely empty. Though they apparently cannot be used for predictive purpose in this iteration, their future inclusion may improve the model's quality. Before hastily discarding them, we want to assess whether they can add any _material insights_ to the current dataset. To do this, we have to first understand what the non-empty variables are telling us."
   ]
  },
  {
   "cell_type": "code",
   "execution_count": 5,
   "metadata": {},
   "outputs": [
    {
     "data": {
      "text/plain": [
       "0"
      ]
     },
     "execution_count": 5,
     "metadata": {},
     "output_type": "execute_result"
    },
    {
     "data": {
      "text/plain": [
       "(83,)"
      ]
     },
     "execution_count": 5,
     "metadata": {},
     "output_type": "execute_result"
    },
    {
     "data": {
      "text/plain": [
       "(62,)"
      ]
     },
     "execution_count": 5,
     "metadata": {},
     "output_type": "execute_result"
    }
   ],
   "source": [
    "# The function takes in a lending club dataframe and returns a list of names of columns that are empty.\n",
    "def empty_columns(lendingClub_df):\n",
    "    empty_col_bool = lendingClub_df.isnull().sum(axis=0) == lendingClub_df.shape[0]\n",
    "    empty_cols = lendingClub_df.columns[empty_col_bool]\n",
    "    return empty_cols\n",
    "# Do training and test share the same empty columns? Yes!\n",
    "(empty_columns(rawTraining) != empty_columns(rawTest)).sum()\n",
    "# We can use one variable to reflect the empty columns in both. We use underline separated names for functions, and upper-case letters\n",
    "# for variable names.\n",
    "emptyColumns = empty_columns(rawTraining)\n",
    "emptyColumns.unique().shape\n",
    "\n",
    "def non_empty_columns(lendingClub_df):\n",
    "    nonEmptyCol_bool = lendingClub_df.isnull().sum(axis=0) != lendingClub_df.shape[0]\n",
    "    nonEmptyCols = lendingClub_df.columns[nonEmptyCol_bool]\n",
    "    return nonEmptyCols\n",
    "nonEmptyColumns = non_empty_columns(rawTraining)\n",
    "nonEmptyColumns.shape"
   ]
  },
  {
   "cell_type": "markdown",
   "metadata": {},
   "source": [
    "### 1.2 Summary of Variables"
   ]
  },
  {
   "cell_type": "markdown",
   "metadata": {},
   "source": [
    "__Cleaning the Data Dictionary__"
   ]
  },
  {
   "cell_type": "markdown",
   "metadata": {},
   "source": [
    "To conviniently consult the data dictionary, we read it in as a pandas DataFrame. \n",
    "\n",
    "- The original dictionary was split between three excel sheets. We manually copied and pasted three sheets into one, and call it the \"flattened\" dictionary.\n",
    "\n",
    "- Notice that some variable names in the data dictionary contain a trailing space. We remove them.\n",
    "\n",
    "- We further discover there's one column that isn't documented in the data dictionary -- `verification_status_joint`. A closer look shows that in the data dictionary, the same variable is termed as `verified_status_joint`. We'd modify the data dictionary to ensure consistency in naming. "
   ]
  },
  {
   "cell_type": "code",
   "execution_count": 6,
   "metadata": {},
   "outputs": [
    {
     "data": {
      "text/plain": [
       "1"
      ]
     },
     "execution_count": 6,
     "metadata": {},
     "output_type": "execute_result"
    }
   ],
   "source": [
    "## Read in the data dictionary. \n",
    "dataDict = pd.read_excel(\"../dict/LendingClubDataDictionary_Flattened.xlsx\")\n",
    "dataDict.columns = [\"Variable\", \"Description\"]\n",
    "dataDict.drop_duplicates(subset=\"Variable\", keep=\"first\", inplace=True)\n",
    "# Notice some variable names in the data dictionary end with an extra space. We need to remove them.\n",
    "dataDict[\"Variable\"] = dataDict[\"Variable\"].str.rstrip()\n",
    "variableNames = list(dataDict[\"Variable\"])\n",
    "# Any columns not documented in the data dictionary?\n",
    "columns = list(rawTraining.columns)\n",
    "inDictBool = [(i in variableNames) for i in columns]\n",
    "(~np.array(inDictBool)).sum()\n",
    "# We change the naming in data dictionary to ensure consistency\n",
    "dataDict[\"Variable\"] = dataDict[\"Variable\"].str.replace(\"verified_status_joint\",\"verification_status_joint\")\n",
    "# Set variable as index for easier selection.\n",
    "dataDict.set_index(\"Variable\", inplace=True)\n",
    "dataDict.to_excel(\"../dict/LendingClubDataDictionary_Cleaned.xlsx\")"
   ]
  },
  {
   "cell_type": "markdown",
   "metadata": {},
   "source": [
    "__Summarizing the non-empty variables__\n",
    "\n",
    "We have 62 non-empty variables. To better summarize the content, we put them into four baskets:\n",
    "\n",
    "- Loan Conditions:\n",
    "    - _Information on the application_. Such as `Loan Amount` applied for, `Title`, `Purpose`, `Description` for the loan and `Application Type` indicating whether the application is made by an individual or jointly), \n",
    "    - _Loan parameters_. Such as the actual `Amount Funded`, `Interest Rate`, and `Grade` assigned to the loan\n",
    "    - _`Loan Status`_. Whether it's fully paid for charged-off.\n",
    "- Borrower's Financial Conditions:\n",
    "    - _Employment Status_. `Annual Income`, `Employer Title`, `Employment Length` all fall under this category.\n",
    "    - _Residental Status_. This includes `Homeonwership`, `State`, `Zip Code`.\n",
    "    - _`Debt-to-income Ratio`_ is also in this category.\n",
    "- Borrower's Credit Situation:\n",
    "    - _Length of credit history_, as reflected in `Earliest Credit Line`.\n",
    "    - _History of late payment_, as captured by `Delinquencies in 2 years`, `Monthes Since Last Delinquency`, number of `Accounts Now Delinquent`, `Delinquent Amount`, `Chargeoffs in 12 Months` etc.\n",
    "    - _Credit utilization_. This includes `Revolving Balance`, `Revolving Balance Utilization`, `Number of Total Accounts`. \n",
    "    - _New credit line inquiries_. `Inquiries in 6 months`, `Last Credit Pulled Date`.\n",
    "    - _Other credit burdens_ such as number of `Tax Liens`, number of `Public Bankcruptcy Records` or `Derogatory Public Records`, `Collections in 12 Months`.\n",
    "- Payment on this loan.\n",
    "    - _Payments received_ so far on principle and interest.\n",
    "    - _Settlement plan_. If default occurs, whether a `Debt Settlement Flag`(plan) is agreed upon, and parameters and progress on that settlement."
   ]
  },
  {
   "cell_type": "code",
   "execution_count": 7,
   "metadata": {},
   "outputs": [
    {
     "data": {
      "text/plain": [
       "62"
      ]
     },
     "execution_count": 7,
     "metadata": {},
     "output_type": "execute_result"
    }
   ],
   "source": [
    "# Tidying up the variable names. \n",
    "variable_name_original = list(non_empty_columns(rawTraining))\n",
    "variable_name_tidy = [\"Loan Amount\", \"Funded Amount\", \"Funded Amount Investor\", \"Term\", \"Interest Rate\", \"Installment\", \"Grade\", \n",
    "                      \"Sub Grade\", \"Employer Title\", \"Employment Length\", \"Home Ownership\", \"Annual Income\", \"Verification Status\",\n",
    "                     \"Issued Date\", \"Loan Status\", \"Payment Plan\", \"Description\", \"Purpose\", \"Title\", \"Zip Code\", \"State\", \"Debt-to-income Ratio\",\n",
    "                     \"Delinquencies in 2 years\", \"Earliest Credit Line\", \"Inquiries in 6 months\", \"Months Since Last Delinquency\",\n",
    "                     \"Months Since Last Public Record\", \"Open Accounts\", \"Derogatory Public Records\", \"Revolving Balance\", \n",
    "                     \"Revolving Balance Utilization\", \"Number of Total Accounts\", \"Initial List Status\", \"Outstanding Principle\", \n",
    "                     \"Outstanding Principle Investor\", \"Total Payment\", \"Total Payment Investor\", \"Total Received Principle\", \"Total Received Interest\",\n",
    "                     \"Total Received Late Fee\", \"Recoveries\", \"Collection Recovery Fee\", \"Last Payment Date\", \"Last Payment Amount\", \"Last Credit Pulled Date\",\n",
    "                     \"Collections in 12 Months\", \"Policy Code\", \"Application Type\", \"Accounts Now Delinquent\", \"Chargeoffs in 12 Months\", \"Delinquent Amount\", \n",
    "                      \"Public Bankcruptcy Records\", \"Tax Liens\", \"Hardship Flag\", \"Disbursement Method\", \"Debt Settlement Flag\", \"Debt Settlement Flag Date\",\n",
    "                     \"Settlement Status\", \"Settlement Date\", \"Settlement Amount\", \"Settlement Percentage\", \"Settlement Term\"]\n",
    "tidy_original_dict = dict(zip(variable_name_tidy, variable_name_original))\n",
    "\n",
    "variable_names_grouped = {\n",
    "    \"Loan Condition\": [\"Loan Amount\", \"Funded Amount\", \"Funded Amount Investor\", \"Term\", \"Interest Rate\", \"Installment\", \"Grade\", \n",
    "                      \"Sub Grade\", \"Loan Status\", \"Issued Date\",\"Title\", \"Description\", \"Purpose\", \"Application Type\", \"Policy Code\",\n",
    "                      \"Initial List Status\"],\n",
    "    \"Borrower Financial Condition\": [\"Employer Title\", \"Employment Length\", \"Home Ownership\", \"Annual Income\", \"Verification Status\",\n",
    "                     \"Zip Code\", \"State\", \"Debt-to-income Ratio\"],\n",
    "    \"Credit Situation\": [\"Delinquencies in 2 years\", \"Earliest Credit Line\", \"Inquiries in 6 months\", \"Months Since Last Delinquency\",\n",
    "                     \"Months Since Last Public Record\", \"Open Accounts\", \"Derogatory Public Records\", \"Revolving Balance\", \n",
    "                     \"Revolving Balance Utilization\", \"Number of Total Accounts\", \"Last Credit Pulled Date\", \"Collections in 12 Months\", \n",
    "                        \"Accounts Now Delinquent\", \"Chargeoffs in 12 Months\", \"Delinquent Amount\", \"Public Bankcruptcy Records\", \"Tax Liens\",\n",
    "                        ],\n",
    "    \"Payment on Loan\": [\"Outstanding Principle\", \n",
    "                     \"Outstanding Principle Investor\", \"Total Payment\", \"Total Payment Investor\", \"Total Received Principle\", \n",
    "                        \"Total Received Interest\",\"Total Received Late Fee\", \"Recoveries\", \"Collection Recovery Fee\", \"Payment Plan\",\n",
    "                        \"Last Payment Date\", \"Last Payment Amount\", \"Hardship Flag\", \"Disbursement Method\", \"Debt Settlement Flag\", \n",
    "                        \"Debt Settlement Flag Date\", \"Settlement Status\", \"Settlement Date\", \"Settlement Amount\", \"Settlement Percentage\", \"Settlement Term\"]\n",
    "}\n",
    "variable_names_grouped_list = []\n",
    "for group in variable_names_grouped.values():\n",
    "    variable_names_grouped_list.extend(group)\n",
    "len(variable_names_grouped_list)"
   ]
  },
  {
   "cell_type": "markdown",
   "metadata": {},
   "source": [
    "### 1.3 Missing Values\n",
    "\n",
    "#### Empty Variables\n",
    "\n",
    "The empty variables fall into one of the three categories: information on joint application, borrower's other credit burdens, and hardship plan status. We think that while both information on co-applicants and hardship status can reveal interesting patterns, only other credit burdens can add material insights to our analysis of default probability.\n",
    "\n",
    "- Information on __joint applicants__. Our dataset only contains information on loans applied for by individuals. However, we don't think that joint application should be treated in a fundamentally different way than an individual ones, as long as we can properly aggregate information on all applicants. In future iterations where joint applications are present, the data should be processed in a similar way to this project.\n",
    "- Applicant's __other credit burdens__. This includes information on the applicant's installment accounts, such as mortgage, auto-loan, and sstudent loans.<span style=\"color:red\"> We think this information can be very helpful for predicting default in some cases. </span> Installment loans typically are collateralized (with the exception of student loans), while Lending Club loans are mostly unsecured, so defaulting on the former usually has a much severer consequence than the latter. If one has already recently defaulted on a mortgage or auto loan, he/she is very likely under significant hardship, and will default on a lending club loan as well. _As such, we recommend including this information in future data collection_.\n",
    "- __Hardship plan status__. Lending Club offers borrowers three-month \"hardship\" plans when only a reduced installment has to be paid. Analysis on hardship plan data can shed light on some interesting questions, such as whether enrollment in the hardship plan signals stronger willingness to avoid default, should Lending Club make automatic recommendation of hardship plans to all borrower's likely to become delinquent, etc. \n",
    "\n",
    "We remove the empty columns before proceeding to further analysis."
   ]
  },
  {
   "cell_type": "code",
   "execution_count": 8,
   "metadata": {},
   "outputs": [
    {
     "data": {
      "text/html": [
       "<div>\n",
       "<style scoped>\n",
       "    .dataframe tbody tr th:only-of-type {\n",
       "        vertical-align: middle;\n",
       "    }\n",
       "\n",
       "    .dataframe tbody tr th {\n",
       "        vertical-align: top;\n",
       "    }\n",
       "\n",
       "    .dataframe thead th {\n",
       "        text-align: right;\n",
       "    }\n",
       "</style>\n",
       "<table border=\"1\" class=\"dataframe\">\n",
       "  <thead>\n",
       "    <tr style=\"text-align: right;\">\n",
       "      <th></th>\n",
       "      <th>Description</th>\n",
       "    </tr>\n",
       "    <tr>\n",
       "      <th>Variable</th>\n",
       "      <th></th>\n",
       "    </tr>\n",
       "  </thead>\n",
       "  <tbody>\n",
       "    <tr>\n",
       "      <td>id</td>\n",
       "      <td>A unique LC assigned ID for the loan listing.</td>\n",
       "    </tr>\n",
       "    <tr>\n",
       "      <td>member_id</td>\n",
       "      <td>A unique LC assigned Id for the borrower member.</td>\n",
       "    </tr>\n",
       "    <tr>\n",
       "      <td>url</td>\n",
       "      <td>URL for the LC page with listing data.</td>\n",
       "    </tr>\n",
       "    <tr>\n",
       "      <td>next_pymnt_d</td>\n",
       "      <td>Next scheduled payment date</td>\n",
       "    </tr>\n",
       "    <tr>\n",
       "      <td>mths_since_last_major_derog</td>\n",
       "      <td>Months since most recent 90-day or worse rating</td>\n",
       "    </tr>\n",
       "    <tr>\n",
       "      <td>...</td>\n",
       "      <td>...</td>\n",
       "    </tr>\n",
       "    <tr>\n",
       "      <td>hardship_dpd</td>\n",
       "      <td>Account days past due as of the hardship plan ...</td>\n",
       "    </tr>\n",
       "    <tr>\n",
       "      <td>hardship_loan_status</td>\n",
       "      <td>Loan Status as of the hardship plan start date</td>\n",
       "    </tr>\n",
       "    <tr>\n",
       "      <td>orig_projected_additional_accrued_interest</td>\n",
       "      <td>The original projected additional interest amo...</td>\n",
       "    </tr>\n",
       "    <tr>\n",
       "      <td>hardship_payoff_balance_amount</td>\n",
       "      <td>The payoff balance amount as of the hardship p...</td>\n",
       "    </tr>\n",
       "    <tr>\n",
       "      <td>hardship_last_payment_amount</td>\n",
       "      <td>The last payment amount as of the hardship pla...</td>\n",
       "    </tr>\n",
       "  </tbody>\n",
       "</table>\n",
       "<p>83 rows × 1 columns</p>\n",
       "</div>"
      ],
      "text/plain": [
       "                                                                                  Description\n",
       "Variable                                                                                     \n",
       "id                                              A unique LC assigned ID for the loan listing.\n",
       "member_id                                    A unique LC assigned Id for the borrower member.\n",
       "url                                                    URL for the LC page with listing data.\n",
       "next_pymnt_d                                                      Next scheduled payment date\n",
       "mths_since_last_major_derog                   Months since most recent 90-day or worse rating\n",
       "...                                                                                       ...\n",
       "hardship_dpd                                Account days past due as of the hardship plan ...\n",
       "hardship_loan_status                           Loan Status as of the hardship plan start date\n",
       "orig_projected_additional_accrued_interest  The original projected additional interest amo...\n",
       "hardship_payoff_balance_amount              The payoff balance amount as of the hardship p...\n",
       "hardship_last_payment_amount                The last payment amount as of the hardship pla...\n",
       "\n",
       "[83 rows x 1 columns]"
      ]
     },
     "execution_count": 8,
     "metadata": {},
     "output_type": "execute_result"
    }
   ],
   "source": [
    "# Check the meaning of empty variables.\n",
    "dataDict.loc[list(emptyColumns), :]"
   ]
  },
  {
   "cell_type": "code",
   "execution_count": 9,
   "metadata": {},
   "outputs": [],
   "source": [
    "# Removing the emtpy columns, and re-order the columns according to grouping.\n",
    "def get_non_empty_columns(lendingClub_df_raw):\n",
    "    training_nonempty = lendingClub_df_raw[list(non_empty_columns(rawTraining))]\n",
    "    training_nonempty.columns = variable_name_tidy\n",
    "    training_nonempty = training_nonempty.reindex(columns=variable_names_grouped_list)\n",
    "    return training_nonempty\n",
    "\n",
    "training_nonempty = rawTraining.pipe(get_non_empty_columns)\n",
    "test_nonempty = rawTest.pipe(get_non_empty_columns)\n"
   ]
  },
  {
   "cell_type": "markdown",
   "metadata": {},
   "source": [
    "#### Missing Values in Columns\n",
    "\n",
    "There are 19 columns that contain missing values. \n",
    "\n",
    "- Some are discretionary fields that the __applicant didn't fill in__. These include loan `Title`, `Description` for loan purpose, `Employer Title` and `Employment Length`. As the fact that applicant opted to omit these might contain meaningful information, we don't discard them. We simply replace them with \"\".\n",
    "- Some are due to __inconsistency in data recording__. \n",
    "    - For applicants who have no delinquencies in the last two years, `Months Since Last Delinquency` are recorded as 0 for some, and left as blank for most. We fill the blank entries with 0, keeping in mind that 0 means no delinquency record. For `Months Since Last Public Record`, we repeat the same procedure against the number of `Derogatory Public Records`.\n",
    "    - All loans that have no `Last Payment Date` have been defaulted on. A closer look reveals that no regular payment was ever recieved on these loans. To ensure consitency in computation for days since the last missed payment, we fill these blanks with loan `Issued Date`.\n",
    "- Some seem to be caused by __inadequecy in data collection__. `Chargeoffs in 12 Months`, `Collections in 12 Months` have values of either 0 or blank. `Revolving Balance Utilization`, `Public Bankcruptcy Records`, `Last Credit Pulled Date` and `Tax Liens` contain both 0 and blank. As we don't know whether the blank values indicate no such incidences occur or no data available, we discard them in this iteration.<span style=\"color:orange\"> A total of 749 data points (about 2% of the training set) are removed from the training set; 1 data point is removed from the test set. </span> <span style=\"color:red\"> We think that in future iteration, such inconsistency can be resolved through better exception handling on when referencing external databases </span> \n",
    "- At last, some are empty because the __features don't apply to the entry__. Most loans don't have a settlement plan, but for those that do, how the settlement is formualated might shed insights on how lending club might capture loss. We leave them as is."
   ]
  },
  {
   "cell_type": "code",
   "execution_count": 10,
   "metadata": {},
   "outputs": [
    {
     "data": {
      "text/plain": [
       "(19, 1)"
      ]
     },
     "execution_count": 10,
     "metadata": {},
     "output_type": "execute_result"
    },
    {
     "data": {
      "text/html": [
       "<div>\n",
       "<style scoped>\n",
       "    .dataframe tbody tr th:only-of-type {\n",
       "        vertical-align: middle;\n",
       "    }\n",
       "\n",
       "    .dataframe tbody tr th {\n",
       "        vertical-align: top;\n",
       "    }\n",
       "\n",
       "    .dataframe thead th {\n",
       "        text-align: right;\n",
       "    }\n",
       "</style>\n",
       "<table border=\"1\" class=\"dataframe\">\n",
       "  <thead>\n",
       "    <tr style=\"text-align: right;\">\n",
       "      <th></th>\n",
       "      <th>0</th>\n",
       "    </tr>\n",
       "  </thead>\n",
       "  <tbody>\n",
       "    <tr>\n",
       "      <td>Title</td>\n",
       "      <td>12</td>\n",
       "    </tr>\n",
       "    <tr>\n",
       "      <td>Description</td>\n",
       "      <td>11188</td>\n",
       "    </tr>\n",
       "    <tr>\n",
       "      <td>Employer Title</td>\n",
       "      <td>2220</td>\n",
       "    </tr>\n",
       "    <tr>\n",
       "      <td>Employment Length</td>\n",
       "      <td>953</td>\n",
       "    </tr>\n",
       "    <tr>\n",
       "      <td>Months Since Last Delinquency</td>\n",
       "      <td>22933</td>\n",
       "    </tr>\n",
       "    <tr>\n",
       "      <td>Months Since Last Public Record</td>\n",
       "      <td>33140</td>\n",
       "    </tr>\n",
       "    <tr>\n",
       "      <td>Revolving Balance Utilization</td>\n",
       "      <td>49</td>\n",
       "    </tr>\n",
       "    <tr>\n",
       "      <td>Last Credit Pulled Date</td>\n",
       "      <td>2</td>\n",
       "    </tr>\n",
       "    <tr>\n",
       "      <td>Collections in 12 Months</td>\n",
       "      <td>56</td>\n",
       "    </tr>\n",
       "    <tr>\n",
       "      <td>Chargeoffs in 12 Months</td>\n",
       "      <td>56</td>\n",
       "    </tr>\n",
       "    <tr>\n",
       "      <td>Public Bankcruptcy Records</td>\n",
       "      <td>697</td>\n",
       "    </tr>\n",
       "    <tr>\n",
       "      <td>Tax Liens</td>\n",
       "      <td>39</td>\n",
       "    </tr>\n",
       "    <tr>\n",
       "      <td>Last Payment Date</td>\n",
       "      <td>68</td>\n",
       "    </tr>\n",
       "    <tr>\n",
       "      <td>Debt Settlement Flag Date</td>\n",
       "      <td>35682</td>\n",
       "    </tr>\n",
       "    <tr>\n",
       "      <td>Settlement Status</td>\n",
       "      <td>35682</td>\n",
       "    </tr>\n",
       "    <tr>\n",
       "      <td>Settlement Date</td>\n",
       "      <td>35682</td>\n",
       "    </tr>\n",
       "    <tr>\n",
       "      <td>Settlement Amount</td>\n",
       "      <td>35682</td>\n",
       "    </tr>\n",
       "    <tr>\n",
       "      <td>Settlement Percentage</td>\n",
       "      <td>35682</td>\n",
       "    </tr>\n",
       "    <tr>\n",
       "      <td>Settlement Term</td>\n",
       "      <td>35682</td>\n",
       "    </tr>\n",
       "  </tbody>\n",
       "</table>\n",
       "</div>"
      ],
      "text/plain": [
       "                                     0\n",
       "Title                               12\n",
       "Description                      11188\n",
       "Employer Title                    2220\n",
       "Employment Length                  953\n",
       "Months Since Last Delinquency    22933\n",
       "Months Since Last Public Record  33140\n",
       "Revolving Balance Utilization       49\n",
       "Last Credit Pulled Date              2\n",
       "Collections in 12 Months            56\n",
       "Chargeoffs in 12 Months             56\n",
       "Public Bankcruptcy Records         697\n",
       "Tax Liens                           39\n",
       "Last Payment Date                   68\n",
       "Debt Settlement Flag Date        35682\n",
       "Settlement Status                35682\n",
       "Settlement Date                  35682\n",
       "Settlement Amount                35682\n",
       "Settlement Percentage            35682\n",
       "Settlement Term                  35682"
      ]
     },
     "execution_count": 10,
     "metadata": {},
     "output_type": "execute_result"
    }
   ],
   "source": [
    "# Check what non-empty columns contain missing values\n",
    "missing_value_by_column = training_nonempty.isnull().sum(axis=0).to_frame()\n",
    "missing_value_nonzero = missing_value_by_column[(missing_value_by_column != 0).any(axis=1)]\n",
    "missing_value_nonzero.shape\n",
    "missing_value_nonzero"
   ]
  },
  {
   "cell_type": "code",
   "execution_count": 11,
   "metadata": {},
   "outputs": [],
   "source": [
    "# Replace missing values in Title, Description, Employer Title and Employment Length with \"Not Provided\"\n",
    "def replace_with_empty_string(lendingClub_df):\n",
    "    variable_list = ['Title', 'Description', 'Employer Title', 'Employment Length']\n",
    "    for i in variable_list:\n",
    "        lendingClub_df[i].fillna(\"\", inplace=True)\n",
    "    return lendingClub_df\n",
    "\n",
    "# For Months Since Last Delinquency, and Months Since Last Public Record, we fill the banks with 0,\n",
    "# keeping in mind 0 means no delinquency/public records.\n",
    "def fill_blank_months_with_zero(lendingClub_df):\n",
    "    variable_list = [\"Months Since Last Delinquency\", \"Months Since Last Public Record\"]\n",
    "    for i in variable_list:\n",
    "        lendingClub_df[i].fillna(0, inplace=True)\n",
    "    return lendingClub_df\n",
    "\n",
    "# Fill Last Payment Date of loans on which no payments were ever made with the loan issuance date.\n",
    "def replace_empty_last_pmt_d_with_issuance_d(lendingClub_df):\n",
    "    no_last_pmt_bool = lendingClub_df[\"Last Payment Date\"].isnull()\n",
    "    (lendingClub_df[\"Last Payment Date\"])[no_last_pmt_bool] = (lendingClub_df[\"Issued Date\"])[no_last_pmt_bool]\n",
    "    return lendingClub_df\n",
    "\n",
    "\n",
    "# Discard the missing entries in Revolving Balance Utilization, Collections in 12 Months, Chargeoffs in 12 Months, \n",
    "# Public Bankcruptcy Records, Tax Liens and Last Credit Pulled Date. 749 entries are removed in the process.\n",
    "def drop_no_data_entries(lendingClub_df):\n",
    "    variable_list = [\"Revolving Balance Utilization\", \"Collections in 12 Months\", \"Chargeoffs in 12 Months\",\n",
    "                    \"Public Bankcruptcy Records\", \"Tax Liens\", \"Last Credit Pulled Date\"]\n",
    "    lendingClub_df.dropna(axis=0, how='any', subset=variable_list, inplace=True)\n",
    "    return lendingClub_df\n",
    "\n",
    "def missing_value_handling(lendingClub_df):\n",
    "    lendingClub_df.pipe(replace_with_empty_string).pipe(fill_blank_months_with_zero).pipe(replace_empty_last_pmt_d_with_issuance_d).pipe(drop_no_data_entries);\n",
    "    return lendingClub_df\n",
    "\n",
    "# training_nonempty.pipe(missing_value_handling)\n",
    "# test_nonempty.pipe(missing_value_handling)"
   ]
  },
  {
   "cell_type": "markdown",
   "metadata": {},
   "source": [
    "### 1.4 Variable Transformation\n",
    "\n",
    "#### Removing Columns With No Variation\n",
    "\n",
    "13 columns contain only one value. \n",
    "\n",
    "- Some variables contain only one value because the dataset was pre-processed (possibly by our instructor) to simplify the problem. Examples include `Application Type`, `Hardship Flag`, and `Payment Plan`. `Outstanding Principle` is uniformly zero because in our dataset, a loan is either charged-off or fully paid, in either case no more princple payment is expected. \n",
    "- Some might result from incomplete record. It's hard to believe that out of more than thirty thousand applicants, no one has an `Account Now Delinquent`. The same goes for `Tax Liens`, `Chargeoffs in 12 Months` and `Collection in 12 Months`. <span style=color:red> We recommend looking into the data collection process to check for completeness of data. </span>"
   ]
  },
  {
   "cell_type": "code",
   "execution_count": 12,
   "metadata": {},
   "outputs": [],
   "source": [
    "# Check which columns in the dataset contain no variation. \n",
    "def columns_no_variation(lendingClub_df):\n",
    "    col_names_list = list(lendingClub_df.columns)\n",
    "    num_of_features = len(col_names_list)\n",
    "    col_names_no_variation = []\n",
    "    for i in range(num_of_features):\n",
    "        if lendingClub_df.iloc[:, i].unique().size == 1:\n",
    "            col_names_no_variation.append(col_names_list[i])\n",
    "    return col_names_no_variation\n",
    "\n",
    "def drop_columns_no_variation(lendingClub_df):\n",
    "    lendingClub_df.drop(columns = columns_no_variation(lendingClub_df), inplace=True)\n",
    "    return lendingClub_df\n",
    "\n",
    "# # Verify that columns without variation in the training and test set are the same.\n",
    "# columns_no_variation(training_nonempty) == columns_no_variation(test_nonempty)\n",
    "# training_nonempty.pipe(drop_columns_no_variation)\n",
    "# test_nonempty.pipe(drop_columns_no_variation)\n"
   ]
  },
  {
   "cell_type": "markdown",
   "metadata": {},
   "source": [
    "#### Formatting the Variables\n",
    "\n",
    "We did the following basic manipulations:\n",
    "\n",
    "- `Loan Status` was changed to indicators.\n",
    "- `Description`: removed strings that are not meaningful.\n",
    "- `Employment Length`: we checked sorting works on this column.\n",
    "- `Earliest Credit Line`: we added a column that represents the length of credit history at the time of application in months.\n",
    "- `Public Bankcruptcy Records`: we discovered that no `Derogatory Public Records` entry was less than `Public Bankcruptcy Records`, which very likely implies that Derogatory Records include Bankcruptcy records by definition. \n",
    "- `Total Received Principle`: Some terms are 0.00001 away from their closest integer value. Round them.\n",
    " "
   ]
  },
  {
   "cell_type": "code",
   "execution_count": 13,
   "metadata": {
    "scrolled": true
   },
   "outputs": [],
   "source": [
    "# Use a chargeoff indicator for Loan Status.\n",
    "def chargeoff_indicator(lendingClub_df):\n",
    "    defaultDict = {\"Charged Off\" : 1, \"Fully Paid\" : 0}\n",
    "    lendingClub_df[\"Loan Status\"].replace(defaultDict, inplace=True)\n",
    "    return lendingClub_df\n",
    "\n",
    "# training_nonempty.pipe(chargeoff_indicator)\n",
    "# test_nonempty.pipe(chargeoff_indicator)"
   ]
  },
  {
   "cell_type": "code",
   "execution_count": 14,
   "metadata": {},
   "outputs": [],
   "source": [
    "# Remove the formatting strings from description.\n",
    "def format_description(lendingClub_df):\n",
    "    lendingClub_df[\"Description\"] = lendingClub_df[\"Description\"].str.replace(r\"Borrower.* > \", \"\").str.replace(r\"<.*>\", \"\").str.strip().astype(str)\n",
    "    return lendingClub_df\n",
    "\n",
    "# # Check if sorting works on Employment Length. It does!\n",
    "# training_nonempty[\"Employment Length\"].sort_values(ascending=False)\n",
    "\n",
    "# Add a column that represent the length of credit history at the time of issuance in months.\n",
    "def add_credit_history_in_months(lendingClub_df):\n",
    "    credit_history_in_months = np.round((lendingClub_df[\"Issued Date\"] - lendingClub_df[\"Earliest Credit Line\"])/np.timedelta64(1,'M'))\n",
    "    lendingClub_df[\"Credit History Length in Months\"] = credit_history_in_months\n",
    "    return lendingClub_df\n",
    "\n",
    "# Round the Total Received Principle.\n",
    "def round_rec_principle(lendingClub_df):\n",
    "    lendingClub_df[\"Total Received Principle\"] = np.round(lendingClub_df[\"Total Received Principle\"])\n",
    "    return lendingClub_df\n",
    "\n",
    "# Present the interest rates in %.\n",
    "def scale_interest_rate(lendingClub_df):\n",
    "    lendingClub_df[\"Interest Rate\"] *= 100\n",
    "    return lendingClub_df\n",
    "\n",
    "# training_nonempty.pipe(format_description).pipe(add_credit_history_in_months).pipe(round_rec_principle).pipe(scale_interest_rate)\n",
    "# test_nonempty.pipe(format_description).pipe(add_credit_history_in_months).pipe(round_rec_principle).pipe(scale_interest_rate)\n",
    "\n",
    "# # Check if Derogatory Public Records contain the same information as Public Bankcruptcy Records\n",
    "# (training_nonempty[\"Derogatory Public Records\"] != training_nonempty[\"Public Bankcruptcy Records\"]).sum()\n",
    "# # Check if Derogatory Public Records also contain bankcruptcy.\n",
    "# (training_nonempty[\"Derogatory Public Records\"] < training_nonempty[\"Public Bankcruptcy Records\"]).sum()"
   ]
  },
  {
   "cell_type": "markdown",
   "metadata": {},
   "source": [
    "### 1.5 Expanding Data Scope\n",
    "\n",
    "The traditional credit scoring model doesn't explicitly take into account macro-economic conditions; machine learning models, due to their flexibility in input, should easily improve on that. However our dataset doesn't contain any macro-economic variables. Utilizing free public resources, we introduced macro-economic variables with different granularity:\n",
    "\n",
    "- Monthly GDP growth: national level. GDP growth reflects the health in overall economy, which should be negatively correlated with default rate. We expect this variable to capture economy-level information, leaving more detailed information in geography to other variables.\n",
    "- Monthly unemployment: state and zip-code level. One's prospect of unemployment is more intimately affected by his immediate environment, so we use zip-code level (a three-digit zipcode typically includes multiple counties) data. We also include state-level data because for some zip-codes the data are missing. \n",
    "- Per capita income: zip-code level. We will use this data to check against the unverified incomes.\n",
    "- Median housing price and rent: zip-code level. These should further differentiate the impact of homeownership. "
   ]
  },
  {
   "cell_type": "markdown",
   "metadata": {},
   "source": [
    "__Adding Unemployment Data__\n",
    "\n",
    "We consulted the Bereau of Labor Statistics website and downloaded the montly unemployment data for each state. We then added to each loan application the statewide unemployment rate at the time of issuance."
   ]
  },
  {
   "cell_type": "code",
   "execution_count": 15,
   "metadata": {},
   "outputs": [
    {
     "name": "stdout",
     "output_type": "stream",
     "text": [
      "Wall time: 15 ms\n"
     ]
    }
   ],
   "source": [
    "%%time\n",
    "## Add state-specfic unemployment rate during the issuance month\n",
    "unemployment = pd.read_csv(\"../data/unemployment.csv\")\n",
    "unemployment.reset_index(drop=True, inplace=True)\n",
    "unemployment[\"date\"] = pd.date_range(start='2006-01-01', end='2015-12-01', freq=\"MS\")\n",
    "unemployment.set_index(\"date\", inplace=True)\n",
    "\n",
    "\n",
    "def get_unemployment(row):\n",
    "    issued_date = row['Issued Date']\n",
    "    state = row['State']\n",
    "    return unemployment.loc[issued_date, state]\n",
    "\n",
    "def add_unemployment(lendingClub_df):\n",
    "    unemployment = []\n",
    "    for i in range(lendingClub_df.shape[0]):\n",
    "        unemployment.append(get_unemployment(lendingClub_df.iloc[i, :]))\n",
    "    unemployment = np.array(unemployment)\n",
    "    lendingClub_df[\"Statewide Unemployment at Issuance\"] = unemployment\n",
    "    return lendingClub_df\n",
    "\n",
    "# test_nonempty.pipe(add_unemployment)\n",
    "# training_nonempty.pipe(add_unemployment)"
   ]
  },
  {
   "cell_type": "markdown",
   "metadata": {},
   "source": [
    "__Adding Quarterly GDP Growth__\n",
    "\n",
    "We obtained our data from St.Lious Fed https://fred.stlouisfed.org/series/A191RL1Q225SBEA."
   ]
  },
  {
   "cell_type": "code",
   "execution_count": 16,
   "metadata": {},
   "outputs": [],
   "source": [
    "gdp = pd.read_csv(\"../data/us_quarterly_gdp_growth.csv\")\n",
    "dates = pd.to_datetime(gdp[\"DATE\"])\n",
    "gdp[\"Year\"] = dates.dt.year\n",
    "gdp[\"Quarter\"] = dates.dt.quarter\n",
    "gdp.drop(columns = [\"DATE\"], inplace=True)\n",
    "gdp.columns = [\"GDP Quarterly Growth at Issuance\", \"Year\", \"Quarter\"]\n",
    "\n",
    "def add_gdp(lendingClub_df):\n",
    "    lendingClub_df[\"Year\"] = lendingClub_df[\"Issued Date\"].dt.year\n",
    "    lendingClub_df[\"Quarter\"] = lendingClub_df[\"Issued Date\"].dt.quarter\n",
    "    temp = lendingClub_df.merge(gdp, on=[\"Year\", \"Quarter\"], how='left')\n",
    "    lendingClub_df[\"GDP Quarterly Growth at Issuance\"] = temp[\"GDP Quarterly Growth at Issuance\"]\n",
    "    lendingClub_df.drop(columns=[\"Year\", \"Quarter\"], inplace=True)\n",
    "    return lendingClub_df\n",
    "\n",
    "# training_nonempty.pipe(add_gdp)\n",
    "# test_nonempty.pipe(add_gdp)"
   ]
  },
  {
   "cell_type": "markdown",
   "metadata": {},
   "source": [
    "__Inferring Industry Section from Employer Title: Too Many Missing Values__\n",
    "\n",
    "We consulted a NASDAQ database (https://public.opendatasoft.com/explore/dataset/us-companies-names-industries/export/) for mapping from company name to industry, and added each employer's industry based on a `Employer Title` name search. \n",
    "\n",
    "The result is less than ideal -- out more than 35000 samples in the training set, only 4800+ entries found their industry. Is this because there aren't that many applicants who work for publicly listed companies? According to a WSJ estimate(https://www.nysscpa.org/news/publications/the-trusted-professional/article/more-americans-work-at-big-firms-than-small-ones-040717), in 2014, small companies (used as a proxy for private companies) employ about 1.5 times as many people as large companies. \n",
    "\n",
    "The distortion in our data is clearly larger, which suggests our text processing on `Employer Title` might have been too coarse. For this project, we won't include the industry section data; <span style=color:red> for future iterations, we recommend doing keyword extraction on Employer Title before proceeding to search. </span>"
   ]
  },
  {
   "cell_type": "code",
   "execution_count": 17,
   "metadata": {},
   "outputs": [],
   "source": [
    "## Adding industry according to company title\n",
    "company_industry = pd.read_excel(\"../data/us_company_names_industries.xlsx\")\n",
    "company_industry.columns = [\"Name\", \"Industry\"]"
   ]
  },
  {
   "cell_type": "code",
   "execution_count": 18,
   "metadata": {},
   "outputs": [],
   "source": [
    "# Remove punctuations and NAs from Employer Title\n",
    "def format_emp_title(lendingClub_df):\n",
    "    mask = (lendingClub_df[\"Employer Title\"] == \"\")\n",
    "    (lendingClub_df[\"Employer Title\"])[mask] = \"NOT PROVIDED\"\n",
    "    lendingClub_df[\"Employer Title\"] = lendingClub_df[\"Employer Title\"].str.replace('[{}]'.format(string.punctuation), \"\")\n",
    "    lendingClub_df[\"Employer Title\"].fillna(\"NOT PROVIDED\", inplace=True)\n",
    "    return lendingClub_df\n",
    "\n",
    "# training_nonempty.pipe(format_emp_title)\n",
    "# test_nonempty.pipe(format_emp_title)"
   ]
  },
  {
   "cell_type": "code",
   "execution_count": 19,
   "metadata": {},
   "outputs": [
    {
     "name": "stdout",
     "output_type": "stream",
     "text": [
      "Wall time: 0 ns\n"
     ]
    }
   ],
   "source": [
    "%%time\n",
    "## This chunk will take approximately 13 minutes...\n",
    "def index_of_first_true(lst):\n",
    "    for i, v in enumerate(lst):\n",
    "        if v is True:\n",
    "            return i\n",
    "    return -1\n",
    "\n",
    "def get_industry(row):\n",
    "    emp_title = row[\"Employer Title\"]\n",
    "    bools = company_industry[\"Name\"].str.contains(emp_title, case=False)\n",
    "    first_true = index_of_first_true(bools)\n",
    "    if first_true == -1:\n",
    "        return \"Not Listed\"\n",
    "    else:\n",
    "        return company_industry.loc[first_true, \"Industry\"]\n",
    "\n",
    "def add_industry(lendingClub_df):\n",
    "    industry = []\n",
    "    for i in range(lendingClub_df.shape[0]):\n",
    "        industry.append(get_industry(lendingClub_df.iloc[i, :]))\n",
    "    industry = np.array(industry)\n",
    "    lendingClub_df[\"Industry\"] = industry\n",
    "    return lendingClub_df\n",
    "\n",
    "# test_nonempty.pipe(add_industry)\n",
    "# training_nonempty.pipe(add_industry)"
   ]
  },
  {
   "cell_type": "markdown",
   "metadata": {},
   "source": [
    "#### Adding Zip-code based Income, Rent, Housing Price and Unemployment."
   ]
  },
  {
   "cell_type": "markdown",
   "metadata": {},
   "source": [
    "The data provided by the census has the geographical categories as county codes. However Lending club data has only three digit zip code. We downloaded a mapping from Missouri Census Data Center to map three digit zip codes to county codes.\n",
    "\n",
    "http://mcdc.missouri.edu/applications/geocorr2014.html\n",
    "\n",
    "We know that for each county code, there will be an associated three digit zip code. However there might be more than one county code for each three digit zip code. Therefore we create a dictionary to assign a 3 digit zip code for each county code, which will be used to calculate 3 digit zip code level census data."
   ]
  },
  {
   "cell_type": "code",
   "execution_count": 20,
   "metadata": {},
   "outputs": [],
   "source": [
    "#Read the Missouri Data Science Center Zip Code County Code Map file\n",
    "zip_county_map = pd.read_csv(\"../data/census_data/zip_census_tract.csv\",encoding=\"latin-1\",dtype=str)\n",
    "\n",
    "#necessary columns\n",
    "zip_county_map_columns =['ZIP census tabulation area', 'County code',\"Tract\"]\n",
    "zip_county_map[\"Tract\"]=zip_county_map[\"Tract\"].str.replace('.',\"\")\n",
    "zip_county_map[\"County Tract Code\"]=zip_county_map[\"County code\"]+zip_county_map[\"Tract\"]\n",
    "zip_county_map_columns =['ZIP census tabulation area', 'County Tract Code']\n",
    "zip_county_map_drop_cols=[x for x in zip_county_map if x not in zip_county_map_columns]\n",
    "\n",
    "#drop unnecessary columns\n",
    "zip_county_map.drop(columns=zip_county_map_drop_cols, axis=0,inplace=True)\n",
    "\n",
    "\n",
    "#calculate 3 digit zip code\n",
    "zip_county_map[\"3 Digit Zip\"]= [x[:3] if len(x)==5 else x[:2] for x in zip_county_map['ZIP census tabulation area']]\n",
    "county_zip_map=dict(zip(zip_county_map[\"County Tract Code\"],zip_county_map[\"3 Digit Zip\"]))"
   ]
  },
  {
   "cell_type": "markdown",
   "metadata": {},
   "source": [
    "Per capita income, median house value, median gross rent, and unemployed population over 16 years old data is obtained from the American Cummunity Survey.\n",
    "\n",
    "We download the dictionary for the variable names in the data. Strip white spaces and store in a dictionary file"
   ]
  },
  {
   "cell_type": "code",
   "execution_count": 21,
   "metadata": {},
   "outputs": [],
   "source": [
    "#Read the American Community Survey Dictionary file\n",
    "census_dict = pd.read_csv(\"../data/census_data/census_dictionary.csv\")\n",
    "\n",
    "#remove extra columns that will not be used\n",
    "census_dict.drop(columns=[x for x in census_dict.columns if x not in [\"Code\",\"Description\"]],inplace=True)\n",
    "\n",
    "#rename the column name so that the whitespace is trimmed.\n",
    "census_dict.columns=census_dict.columns.str.lstrip().str.rstrip()\n",
    "\n",
    "#remove whitespace before and after string\n",
    "census_dict[\"Code\"]=census_dict[\"Code\"].str.lstrip().str.rstrip()\n",
    "# census_dict[\"FIPS\"]=census_dict[\"FIPS\"].str.rstrip(\" \")\n",
    "\n",
    "census_code_dict = dict(zip(census_dict[\"Code\"],census_dict[\"Description\"]))\n",
    "census_description_dict = dict(zip(census_dict[\"Description\"],census_dict[\"Code\"]))"
   ]
  },
  {
   "cell_type": "markdown",
   "metadata": {},
   "source": [
    "For the per capita income, Total Population over 16 Years Old, Total Population variables, we will simply sum each county code in the 3 digit zip code level.\n",
    "\n",
    "However, for median house value and median gross rent, the underlying data is not available. Therefore although it is not absolutely correct, we average these variables to get average median house value and average median gross rent for each three digit zip code.\n",
    "\n",
    "Below is the weighted average function to be applied."
   ]
  },
  {
   "cell_type": "code",
   "execution_count": 22,
   "metadata": {},
   "outputs": [],
   "source": [
    "def weighted_average_funct(group, avg_name, weight_name):\n",
    "    \"\"\" http://stackoverflow.com/questions/10951341/pandas-dataframe-aggregate-function-using-multiple-columns\n",
    "    In rare instance, we may not have weights, so just return the mean. Customize this if your business case\n",
    "    should return otherwise.\n",
    "    \"\"\"\n",
    "    d = group[avg_name]\n",
    "    w = group[weight_name]\n",
    "    try:\n",
    "        return (d * w).sum() / w.sum()\n",
    "    except ZeroDivisionError:\n",
    "        return d.mean()\n",
    "    \n"
   ]
  },
  {
   "cell_type": "markdown",
   "metadata": {},
   "source": [
    "Read the American Census data csv file, specifying the data type for the variables that will be used."
   ]
  },
  {
   "cell_type": "code",
   "execution_count": 23,
   "metadata": {},
   "outputs": [],
   "source": [
    "#read the American Community Survey (2006-2010) data.\n",
    "#Data is about 67mb.\n",
    "#source is Social Explorer, granted a student licence through Rutgers University.\n",
    "#encoding of the source file is Western Latin-1 (ISO-8859-1)\n",
    "\n",
    "census_data = pd.read_csv(\"../data/census_data/ACS_2006_2010_census_tract.csv\",encoding =\"latin-1\",\n",
    "                         dtype={\"Geo_FIPS\": str,\n",
    "                                census_description_dict['     Total Population    ']: np.int64,\n",
    "                                census_description_dict['     Civilian Population in Labor Force 16 Years and Over    ']: np.int64,\n",
    "                                census_description_dict['     Civilian Population in Labor Force 16 Years and Over  Unemployed   ']: np.int64,\n",
    "                                census_description_dict['     Per Capita Income (In 2010 Inflation Adjusted Dollars)    ']: np.float64,\n",
    "                                census_description_dict['     Median Value    ']: np.float64,\n",
    "                                census_description_dict['     Median Gross Rent    ']: np.float64,})"
   ]
  },
  {
   "cell_type": "markdown",
   "metadata": {},
   "source": [
    "Below we clean out the column names, change the variable codes to descriptions, drop unnecessary columns."
   ]
  },
  {
   "cell_type": "code",
   "execution_count": 24,
   "metadata": {},
   "outputs": [],
   "source": [
    "\n",
    "#strip the variable categorical indicators and underscores\n",
    "census_data.columns=census_data.columns.str.lstrip(\"Geo\")\n",
    "census_data.columns=census_data.columns.str.lstrip(\"SE\")\n",
    "census_data.columns=census_data.columns.str.lstrip(\"_\")\n",
    "\n",
    "#replace variable codes with variable names\n",
    "census_data.columns=[x if x not in census_code_dict else census_code_dict[x] for x in census_data.columns]\n",
    "\n",
    "#columns to keep from the data source, we will drop every other column\n",
    "census_data_columns_keep = ['FIPS',\n",
    "                        '     Total Population    ',\n",
    "                       '     Civilian Population in Labor Force 16 Years and Over    ',\n",
    "                       '     Civilian Population in Labor Force 16 Years and Over  Unemployed   ',\n",
    "                       '     Per Capita Income (In 2010 Inflation Adjusted Dollars)    ',\n",
    "                       '     Median Value    ',\n",
    "                        '     Median Gross Rent    ']\n",
    "\n",
    "#columns to remove\n",
    "census_data_columns_remove=[x for x in census_data.columns if x not in census_data_columns_keep]\n",
    "\n",
    "#drop columns\n",
    "census_data.drop(columns=census_data_columns_remove,inplace=True)\n",
    "\n",
    "#strip whitespace from end and beginning\n",
    "census_data.columns=census_data.columns.str.lstrip().str.rstrip()\n",
    "\n",
    "#rename the column names\n",
    "census_data_columns_newnames = ['County Tract Code',\n",
    "                                'Total Population',\n",
    "                                'Total Population over 16 Years Old',\n",
    "                                'Unemployed',\n",
    "                                'Per Capita Income',\n",
    "                                'Median House Value', \n",
    "                                'Median Gross Rent']\n",
    "\n",
    "census_data.columns = census_data_columns_newnames\n"
   ]
  },
  {
   "cell_type": "markdown",
   "metadata": {},
   "source": [
    "We now map the the zip code information in the census data for each county code."
   ]
  },
  {
   "cell_type": "code",
   "execution_count": 25,
   "metadata": {},
   "outputs": [
    {
     "data": {
      "text/plain": [
       "889"
      ]
     },
     "execution_count": 25,
     "metadata": {},
     "output_type": "execute_result"
    }
   ],
   "source": [
    "census_data[\"County Tract Code\"]=census_data[\"County Tract Code\"].astype(str)\n",
    "census_data[\"3 Digit Zip Code\"]=census_data['County Tract Code'].map(county_zip_map)\n",
    "\n",
    "#number of unique values for 3 digit zip code in the census data\n",
    "census_data[\"3 Digit Zip Code\"].nunique()"
   ]
  },
  {
   "cell_type": "markdown",
   "metadata": {},
   "source": [
    "We now calculate the weighted average of the four county wide data to obtaine zip code level data for median house value and gross rent simply sum other variables.\n",
    "\n",
    "We also calculate the unemployment rate from the unemployed population data and we combine everything in the original dataframe"
   ]
  },
  {
   "cell_type": "code",
   "execution_count": 26,
   "metadata": {},
   "outputs": [
    {
     "data": {
      "text/html": [
       "<div>\n",
       "<style scoped>\n",
       "    .dataframe tbody tr th:only-of-type {\n",
       "        vertical-align: middle;\n",
       "    }\n",
       "\n",
       "    .dataframe tbody tr th {\n",
       "        vertical-align: top;\n",
       "    }\n",
       "\n",
       "    .dataframe thead th {\n",
       "        text-align: right;\n",
       "    }\n",
       "</style>\n",
       "<table border=\"1\" class=\"dataframe\">\n",
       "  <thead>\n",
       "    <tr style=\"text-align: right;\">\n",
       "      <th></th>\n",
       "      <th>3 Digit Zip Code</th>\n",
       "      <th>Total Population</th>\n",
       "      <th>Unemployed</th>\n",
       "      <th>Unemployment Rate</th>\n",
       "      <th>Average Median House Value</th>\n",
       "      <th>Average Median Gross Rent</th>\n",
       "      <th>Per Capita Income</th>\n",
       "    </tr>\n",
       "  </thead>\n",
       "  <tbody>\n",
       "    <tr>\n",
       "      <td>0</td>\n",
       "      <td>010</td>\n",
       "      <td>450318</td>\n",
       "      <td>18277</td>\n",
       "      <td>0.076412</td>\n",
       "      <td>226278.198740</td>\n",
       "      <td>765.872874</td>\n",
       "      <td>27445.965298</td>\n",
       "    </tr>\n",
       "    <tr>\n",
       "      <td>1</td>\n",
       "      <td>011</td>\n",
       "      <td>168665</td>\n",
       "      <td>9866</td>\n",
       "      <td>0.130560</td>\n",
       "      <td>176337.901758</td>\n",
       "      <td>804.549895</td>\n",
       "      <td>20864.963187</td>\n",
       "    </tr>\n",
       "    <tr>\n",
       "      <td>2</td>\n",
       "      <td>012</td>\n",
       "      <td>131116</td>\n",
       "      <td>5137</td>\n",
       "      <td>0.075136</td>\n",
       "      <td>219597.476281</td>\n",
       "      <td>745.439443</td>\n",
       "      <td>28301.380426</td>\n",
       "    </tr>\n",
       "    <tr>\n",
       "      <td>3</td>\n",
       "      <td>013</td>\n",
       "      <td>81116</td>\n",
       "      <td>3216</td>\n",
       "      <td>0.071128</td>\n",
       "      <td>217177.670250</td>\n",
       "      <td>828.543296</td>\n",
       "      <td>27044.392808</td>\n",
       "    </tr>\n",
       "    <tr>\n",
       "      <td>4</td>\n",
       "      <td>014</td>\n",
       "      <td>204887</td>\n",
       "      <td>8396</td>\n",
       "      <td>0.076749</td>\n",
       "      <td>274537.244432</td>\n",
       "      <td>877.998448</td>\n",
       "      <td>29036.776599</td>\n",
       "    </tr>\n",
       "  </tbody>\n",
       "</table>\n",
       "</div>"
      ],
      "text/plain": [
       "  3 Digit Zip Code  Total Population  Unemployed  Unemployment Rate  \\\n",
       "0              010            450318       18277           0.076412   \n",
       "1              011            168665        9866           0.130560   \n",
       "2              012            131116        5137           0.075136   \n",
       "3              013             81116        3216           0.071128   \n",
       "4              014            204887        8396           0.076749   \n",
       "\n",
       "   Average Median House Value  Average Median Gross Rent  Per Capita Income  \n",
       "0               226278.198740                 765.872874       27445.965298  \n",
       "1               176337.901758                 804.549895       20864.963187  \n",
       "2               219597.476281                 745.439443       28301.380426  \n",
       "3               217177.670250                 828.543296       27044.392808  \n",
       "4               274537.244432                 877.998448       29036.776599  "
      ]
     },
     "execution_count": 26,
     "metadata": {},
     "output_type": "execute_result"
    }
   ],
   "source": [
    "#We now calculate the weighted average of the four county wide data to obtaine zip code level data for median house value and gross rent\n",
    "census_group_house_value= census_data.groupby(\"3 Digit Zip Code\").apply(weighted_average_funct,\"Median House Value\",\"Total Population\").reset_index(name='Average Median House Value')\n",
    "census_group_rent= census_data.groupby(\"3 Digit Zip Code\").apply(weighted_average_funct,\"Median Gross Rent\",\"Total Population\").reset_index(name='Average Median Gross Rent')\n",
    "census_group_per_capita= census_data.groupby(\"3 Digit Zip Code\").apply(weighted_average_funct,\"Per Capita Income\",\"Total Population\").reset_index(name='Per Capita Income')\n",
    "\n",
    "f = {'Total Population': sum, 'Total Population over 16 Years Old': sum,\"Unemployed\": sum}\n",
    "census_group_main= census_data.groupby(\"3 Digit Zip Code\").agg(f)\n",
    "\n",
    "#calculate simple unemployment statistics\n",
    "census_group_main[\"Unemployment Rate\"]=census_group_main[\"Unemployed\"]/census_group_main[\"Total Population over 16 Years Old\"]\n",
    "\n",
    "census_group_main.reset_index(inplace=True)\n",
    "\n",
    "census_group_main.drop(columns=[\"Total Population over 16 Years Old\"],inplace=True)\n",
    "\n",
    "\n",
    "census_group_main[\"Average Median House Value\"]= census_group_house_value[\"Average Median House Value\"]\n",
    "census_group_main[\"Average Median Gross Rent\"]= census_group_rent[\"Average Median Gross Rent\"]\n",
    "census_group_main[\"Per Capita Income\"]= census_group_per_capita[\"Per Capita Income\"]\n",
    "\n",
    "\n",
    "# census_group_main[\"Average Median Gross Rent\"]=census_group_house_value\n",
    "\n",
    "census_data=census_group_main\n",
    "\n",
    "census_data.head()\n",
    "\n"
   ]
  },
  {
   "cell_type": "code",
   "execution_count": 32,
   "metadata": {},
   "outputs": [],
   "source": [
    "# unemployment_dict=dict(zip(census_data['County Code'],census_data[\"Unemployment Rate\"]))\n",
    "per_capita_income_dict=dict(zip(census_data['3 Digit Zip Code'],census_data[\"Per Capita Income\"]))\n",
    "total_population_dict=dict(zip(census_data['3 Digit Zip Code'],census_data[\"Total Population\"]))\n",
    "average_median_house_value_dict=dict(zip(census_data['3 Digit Zip Code'],census_data[\"Average Median House Value\"]))\n",
    "average_median_rent_dict=dict(zip(census_data['3 Digit Zip Code'],census_data[\"Average Median Gross Rent\"]))\n",
    "unemployment_dict=dict(zip(census_data['3 Digit Zip Code'],census_data[\"Unemployment Rate\"]))\n",
    "\n",
    "\n",
    "def add_county_data(lendingclub_df):\n",
    "    \n",
    "    #first create a three digit zip code from the 5 digit code.\n",
    "    lendingclub_df[\"3 Digit Zip Code\"]=lendingclub_df[\"Zip Code\"].str.rstrip(\"xx\").str.lstrip(\"0\")\n",
    "    \n",
    "    #now add census data\n",
    "    lendingclub_df[\"Unemployment Rate\"]=lendingclub_df[\"3 Digit Zip Code\"].map(unemployment_dict)\n",
    "    lendingclub_df[\"Unemployment Rate\"] *= 100\n",
    "    lendingclub_df[\"Average Median Gross Rent\"]=lendingclub_df[\"3 Digit Zip Code\"].map(average_median_rent_dict)\n",
    "    lendingclub_df[\"Average Median House Value\"]=lendingclub_df[\"3 Digit Zip Code\"].map(average_median_house_value_dict)\n",
    "    lendingclub_df[\"Total Population\"]=lendingclub_df[\"3 Digit Zip Code\"].map(total_population_dict)\n",
    "    lendingclub_df[\"Per Capita Income\"]=lendingclub_df[\"3 Digit Zip Code\"].map(per_capita_income_dict)\n",
    "\n",
    "    \n",
    "    return lendingclub_df\n"
   ]
  },
  {
   "cell_type": "markdown",
   "metadata": {},
   "source": [
    "### 1.6 A Note on Automated Data Cleaning\n",
    "\n",
    "For any future iterations on new data, run the notebook once, and run the cells below.\n",
    "\n",
    "A couple of caveats: \n",
    "- the new dataset has to have exactly the same columns where there's no variation. This is because if the dataset contains too few data points, the `Issued Date` for all entries will be the same, and we will have an extra column removed in the `drop_columns_no_variation` step. \n",
    "- The external data on unemployment and gdp ranges from the beginning of 2006 to the end of 2015. Further, the raw unemployment data are manually downloaded from BLS website. If user wants to reference periods beyond this range, he/she has to manually update the raw data. \n",
    "\n",
    "As a rule of thumb for using the current iteration, make sure the new dataset contains at least 2000 entries."
   ]
  },
  {
   "cell_type": "code",
   "execution_count": 28,
   "metadata": {},
   "outputs": [],
   "source": [
    "def get_non_empty_columns(lendingClub_df_raw):\n",
    "    training_nonempty = lendingClub_df_raw[list(non_empty_columns(rawTraining))]\n",
    "    # Format Variable Names.\n",
    "    training_nonempty.columns = variable_name_tidy\n",
    "    training_nonempty = training_nonempty.reindex(columns=variable_names_grouped_list)\n",
    "    return training_nonempty\n",
    "\n",
    "def missing_value_handling(lendingClub_df):\n",
    "    lendingClub_df.pipe(replace_with_empty_string).pipe(fill_blank_months_with_zero).pipe(replace_empty_last_pmt_d_with_issuance_d).pipe(drop_no_data_entries);\n",
    "    return lendingClub_df\n",
    "\n",
    "def variable_transformation(lendingClub_df):\n",
    "    lendingClub_df.pipe(add_credit_history_in_months).pipe(round_rec_principle).pipe(scale_interest_rate).pipe(drop_columns_no_variation).pipe(chargeoff_indicator).pipe(format_description)\n",
    "    return lendingClub_df\n",
    "\n",
    "def add_external_data(lendingClub_df):\n",
    "    lendingClub_df.pipe(format_emp_title).pipe(add_unemployment).pipe(add_gdp).pipe(add_county_data)\n",
    "    return lendingClub_df\n",
    "    \n",
    "def clean_data(lendingClub_df_raw):\n",
    "    lendingClub_df_raw = lendingClub_df_raw.pipe(get_non_empty_columns)\n",
    "    lendingClub_df_raw.pipe(missing_value_handling).pipe(variable_transformation).pipe(add_external_data)\n",
    "    return lendingClub_df_raw"
   ]
  },
  {
   "cell_type": "code",
   "execution_count": 33,
   "metadata": {},
   "outputs": [
    {
     "name": "stderr",
     "output_type": "stream",
     "text": [
      "C:\\Users\\nleea\\Anaconda3\\lib\\site-packages\\ipykernel_launcher.py:19: SettingWithCopyWarning: \n",
      "A value is trying to be set on a copy of a slice from a DataFrame\n",
      "\n",
      "See the caveats in the documentation: http://pandas.pydata.org/pandas-docs/stable/user_guide/indexing.html#returning-a-view-versus-a-copy\n",
      "C:\\Users\\nleea\\Anaconda3\\lib\\site-packages\\ipykernel_launcher.py:4: SettingWithCopyWarning: \n",
      "A value is trying to be set on a copy of a slice from a DataFrame\n",
      "\n",
      "See the caveats in the documentation: http://pandas.pydata.org/pandas-docs/stable/user_guide/indexing.html#returning-a-view-versus-a-copy\n",
      "  after removing the cwd from sys.path.\n"
     ]
    },
    {
     "name": "stdout",
     "output_type": "stream",
     "text": [
      "Wall time: 13.4 s\n"
     ]
    }
   ],
   "source": [
    "%%time\n",
    "training = rawTraining.pipe(clean_data)\n",
    "test = rawTest.pipe(clean_data)"
   ]
  },
  {
   "cell_type": "code",
   "execution_count": 35,
   "metadata": {},
   "outputs": [
    {
     "data": {
      "text/html": [
       "<div>\n",
       "<style scoped>\n",
       "    .dataframe tbody tr th:only-of-type {\n",
       "        vertical-align: middle;\n",
       "    }\n",
       "\n",
       "    .dataframe tbody tr th {\n",
       "        vertical-align: top;\n",
       "    }\n",
       "\n",
       "    .dataframe thead th {\n",
       "        text-align: right;\n",
       "    }\n",
       "</style>\n",
       "<table border=\"1\" class=\"dataframe\">\n",
       "  <thead>\n",
       "    <tr style=\"text-align: right;\">\n",
       "      <th></th>\n",
       "      <th>Loan Amount</th>\n",
       "      <th>Funded Amount</th>\n",
       "      <th>Funded Amount Investor</th>\n",
       "      <th>Term</th>\n",
       "      <th>Interest Rate</th>\n",
       "      <th>Installment</th>\n",
       "      <th>Grade</th>\n",
       "      <th>Sub Grade</th>\n",
       "      <th>Loan Status</th>\n",
       "      <th>Issued Date</th>\n",
       "      <th>Title</th>\n",
       "      <th>Description</th>\n",
       "      <th>Purpose</th>\n",
       "      <th>Employer Title</th>\n",
       "      <th>Employment Length</th>\n",
       "      <th>Home Ownership</th>\n",
       "      <th>Annual Income</th>\n",
       "      <th>Verification Status</th>\n",
       "      <th>Zip Code</th>\n",
       "      <th>State</th>\n",
       "      <th>Debt-to-income Ratio</th>\n",
       "      <th>Delinquencies in 2 years</th>\n",
       "      <th>Earliest Credit Line</th>\n",
       "      <th>Inquiries in 6 months</th>\n",
       "      <th>Months Since Last Delinquency</th>\n",
       "      <th>Months Since Last Public Record</th>\n",
       "      <th>Open Accounts</th>\n",
       "      <th>Derogatory Public Records</th>\n",
       "      <th>Revolving Balance</th>\n",
       "      <th>Revolving Balance Utilization</th>\n",
       "      <th>Number of Total Accounts</th>\n",
       "      <th>Last Credit Pulled Date</th>\n",
       "      <th>Public Bankcruptcy Records</th>\n",
       "      <th>Total Payment</th>\n",
       "      <th>Total Payment Investor</th>\n",
       "      <th>Total Received Principle</th>\n",
       "      <th>Total Received Interest</th>\n",
       "      <th>Total Received Late Fee</th>\n",
       "      <th>Recoveries</th>\n",
       "      <th>Collection Recovery Fee</th>\n",
       "      <th>Last Payment Date</th>\n",
       "      <th>Last Payment Amount</th>\n",
       "      <th>Debt Settlement Flag</th>\n",
       "      <th>Debt Settlement Flag Date</th>\n",
       "      <th>Settlement Status</th>\n",
       "      <th>Settlement Date</th>\n",
       "      <th>Settlement Amount</th>\n",
       "      <th>Settlement Percentage</th>\n",
       "      <th>Settlement Term</th>\n",
       "      <th>Credit History Length in Months</th>\n",
       "      <th>Statewide Unemployment at Issuance</th>\n",
       "      <th>GDP Quarterly Growth at Issuance</th>\n",
       "      <th>3 Digit Zip Code</th>\n",
       "      <th>Unemployment Rate</th>\n",
       "      <th>Average Median Gross Rent</th>\n",
       "      <th>Average Median House Value</th>\n",
       "      <th>Total Population</th>\n",
       "      <th>Per Capita Income</th>\n",
       "    </tr>\n",
       "  </thead>\n",
       "  <tbody>\n",
       "    <tr>\n",
       "      <td>0</td>\n",
       "      <td>35000</td>\n",
       "      <td>35000</td>\n",
       "      <td>34975.0</td>\n",
       "      <td>60 months</td>\n",
       "      <td>11.71</td>\n",
       "      <td>773.44</td>\n",
       "      <td>B</td>\n",
       "      <td>B3</td>\n",
       "      <td>1</td>\n",
       "      <td>2011-11-01</td>\n",
       "      <td>Restaurant Inventory</td>\n",
       "      <td>Loan proceeds will be used to partially fund a...</td>\n",
       "      <td>small_business</td>\n",
       "      <td>US Department of Labor</td>\n",
       "      <td>10+ years</td>\n",
       "      <td>MORTGAGE</td>\n",
       "      <td>110000.0</td>\n",
       "      <td>Verified</td>\n",
       "      <td>945xx</td>\n",
       "      <td>CA</td>\n",
       "      <td>1.06</td>\n",
       "      <td>0</td>\n",
       "      <td>1971-01-01</td>\n",
       "      <td>0</td>\n",
       "      <td>0.0</td>\n",
       "      <td>0.0</td>\n",
       "      <td>10</td>\n",
       "      <td>0</td>\n",
       "      <td>4142</td>\n",
       "      <td>0.064</td>\n",
       "      <td>27</td>\n",
       "      <td>2017-07-01</td>\n",
       "      <td>0.0</td>\n",
       "      <td>11601.6</td>\n",
       "      <td>11593.34</td>\n",
       "      <td>6927.0</td>\n",
       "      <td>4652.28</td>\n",
       "      <td>0.0</td>\n",
       "      <td>22.5</td>\n",
       "      <td>0.0</td>\n",
       "      <td>2013-02-01</td>\n",
       "      <td>773.44</td>\n",
       "      <td>N</td>\n",
       "      <td>NaT</td>\n",
       "      <td>NaN</td>\n",
       "      <td>NaT</td>\n",
       "      <td>NaN</td>\n",
       "      <td>NaN</td>\n",
       "      <td>NaN</td>\n",
       "      <td>490.0</td>\n",
       "      <td>11.3</td>\n",
       "      <td>4.7</td>\n",
       "      <td>945</td>\n",
       "      <td>8.176195</td>\n",
       "      <td>1425.191917</td>\n",
       "      <td>546049.175985</td>\n",
       "      <td>2025070.0</td>\n",
       "      <td>35498.327248</td>\n",
       "    </tr>\n",
       "  </tbody>\n",
       "</table>\n",
       "</div>"
      ],
      "text/plain": [
       "   Loan Amount  Funded Amount  Funded Amount Investor        Term  \\\n",
       "0        35000          35000                 34975.0   60 months   \n",
       "\n",
       "   Interest Rate  Installment Grade Sub Grade  Loan Status Issued Date  \\\n",
       "0          11.71       773.44     B        B3            1  2011-11-01   \n",
       "\n",
       "                  Title                                        Description  \\\n",
       "0  Restaurant Inventory  Loan proceeds will be used to partially fund a...   \n",
       "\n",
       "          Purpose          Employer Title Employment Length Home Ownership  \\\n",
       "0  small_business  US Department of Labor         10+ years       MORTGAGE   \n",
       "\n",
       "   Annual Income Verification Status Zip Code State  Debt-to-income Ratio  \\\n",
       "0       110000.0            Verified    945xx    CA                  1.06   \n",
       "\n",
       "   Delinquencies in 2 years Earliest Credit Line  Inquiries in 6 months  \\\n",
       "0                         0           1971-01-01                      0   \n",
       "\n",
       "   Months Since Last Delinquency  Months Since Last Public Record  \\\n",
       "0                            0.0                              0.0   \n",
       "\n",
       "   Open Accounts  Derogatory Public Records  Revolving Balance  \\\n",
       "0             10                          0               4142   \n",
       "\n",
       "   Revolving Balance Utilization  Number of Total Accounts  \\\n",
       "0                          0.064                        27   \n",
       "\n",
       "  Last Credit Pulled Date  Public Bankcruptcy Records  Total Payment  \\\n",
       "0              2017-07-01                         0.0        11601.6   \n",
       "\n",
       "   Total Payment Investor  Total Received Principle  Total Received Interest  \\\n",
       "0                11593.34                    6927.0                  4652.28   \n",
       "\n",
       "   Total Received Late Fee  Recoveries  Collection Recovery Fee  \\\n",
       "0                      0.0        22.5                      0.0   \n",
       "\n",
       "  Last Payment Date  Last Payment Amount Debt Settlement Flag  \\\n",
       "0        2013-02-01               773.44                    N   \n",
       "\n",
       "  Debt Settlement Flag Date Settlement Status Settlement Date  \\\n",
       "0                       NaT               NaN             NaT   \n",
       "\n",
       "   Settlement Amount  Settlement Percentage  Settlement Term  \\\n",
       "0                NaN                    NaN              NaN   \n",
       "\n",
       "   Credit History Length in Months  Statewide Unemployment at Issuance  \\\n",
       "0                            490.0                                11.3   \n",
       "\n",
       "   GDP Quarterly Growth at Issuance 3 Digit Zip Code  Unemployment Rate  \\\n",
       "0                               4.7              945           8.176195   \n",
       "\n",
       "   Average Median Gross Rent  Average Median House Value  Total Population  \\\n",
       "0                1425.191917               546049.175985         2025070.0   \n",
       "\n",
       "   Per Capita Income  \n",
       "0       35498.327248  "
      ]
     },
     "execution_count": 35,
     "metadata": {},
     "output_type": "execute_result"
    }
   ],
   "source": [
    "training.head(1)"
   ]
  },
  {
   "cell_type": "code",
   "execution_count": null,
   "metadata": {},
   "outputs": [],
   "source": [
    "%%time\n",
    "training.to_excel(\"../data/training_cleaned.xlsx\", index=False)\n",
    "test.to_excel(\"../data/test_cleaned.xlsx\", index=False)"
   ]
  },
  {
   "cell_type": "code",
   "execution_count": null,
   "metadata": {},
   "outputs": [],
   "source": [
    "\n",
    "\n"
   ]
  },
  {
   "cell_type": "code",
   "execution_count": null,
   "metadata": {},
   "outputs": [],
   "source": []
  }
 ],
 "metadata": {
  "kernelspec": {
   "display_name": "Python 3",
   "language": "python",
   "name": "python3"
  },
  "language_info": {
   "codemirror_mode": {
    "name": "ipython",
    "version": 3
   },
   "file_extension": ".py",
   "mimetype": "text/x-python",
   "name": "python",
   "nbconvert_exporter": "python",
   "pygments_lexer": "ipython3",
   "version": "3.7.4"
  }
 },
 "nbformat": 4,
 "nbformat_minor": 2
}
