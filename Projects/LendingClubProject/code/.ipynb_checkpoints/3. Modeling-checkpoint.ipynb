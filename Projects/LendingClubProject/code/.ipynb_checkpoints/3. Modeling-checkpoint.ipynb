{
 "cells": [
  {
   "cell_type": "markdown",
   "metadata": {},
   "source": [
    "## 3. Modeling\n",
    "\n",
    "We will attempt the following models:\n",
    "\n",
    "- Logistics Regression with Penalty\n",
    "- Soft-margin SVM\n",
    "- Decision Tree\n",
    "- XG-boost\n",
    "\n",
    "For each model, we will assess the performance on:\n",
    "\n",
    "- Accuracy. Cross validation & ROC curve.\n",
    "- Intepretability. Feature importance(sign, magnitude, elasticity) & decision boundary.\n",
    "- Efficiency. Time of execution vs. theoretical computational efficiency.\n",
    "- Stability. Model under perturbance in input. "
   ]
  },
  {
   "cell_type": "code",
   "execution_count": 49,
   "metadata": {},
   "outputs": [],
   "source": [
    "import pandas as pd\n",
    "import numpy as np\n",
    "import matplotlib.pyplot as plt\n",
    "import seaborn as sns\n",
    "import imblearn\n",
    "\n",
    "from sklearn import linear_model\n",
    "from sklearn.model_selection import GridSearchCV\n",
    "\n",
    "from IPython.core.interactiveshell import InteractiveShell\n",
    "InteractiveShell.ast_node_interactivity = \"all\"\n",
    "\n",
    "pd.set_option(\"display.max_columns\", 40)"
   ]
  },
  {
   "cell_type": "code",
   "execution_count": 2,
   "metadata": {},
   "outputs": [],
   "source": [
    "#conda install -c conda-forge imbalanced-learn # worked for me"
   ]
  },
  {
   "cell_type": "code",
   "execution_count": 47,
   "metadata": {},
   "outputs": [],
   "source": [
    "training = pd.read_csv(\"../data/training_for_prediction_numerical.csv\")\n",
    "test = pd.read_csv(\"../data/test_for_prediction_numerical.csv\")\n",
    "# training.drop(columns = [ 'car', 'credit_card', 'debt_consolidation',\n",
    "#        'educational', 'home_improvement', 'house', 'major_purchase', 'medical',\n",
    "#        'moving', 'renewable_energy', 'small_business', 'vacation', 'wedding'], inplace=True)\n",
    "# test.drop(columns = [ 'car', 'credit_card', 'debt_consolidation',\n",
    "#        'educational', 'home_improvement', 'house', 'major_purchase', 'medical',\n",
    "#        'moving', 'renewable_energy', 'small_business', 'vacation', 'wedding'], inplace=True)"
   ]
  },
  {
   "cell_type": "code",
   "execution_count": 39,
   "metadata": {},
   "outputs": [],
   "source": [
    "X_train = training.iloc[: ,1:]\n",
    "y_train = training.iloc[: ,0]\n",
    "X_test = test.iloc[: ,1:]\n",
    "y_test = test.iloc[: ,0]"
   ]
  },
  {
   "cell_type": "markdown",
   "metadata": {},
   "source": [
    "### 0. ROC curve\n",
    "\n",
    "There are two ways to look at the ROC curve: its Area Under the Curve represents the probability that the classifier ranks a positive instance higher than a negative instance, and each point on the curve represents the (fpr, tpr) corresponding to that threshold. Using AUC, we can differentiate between models; using the graph itself, we can find the best threshold for converting \"estimated probability\" to labels."
   ]
  },
  {
   "cell_type": "code",
   "execution_count": 174,
   "metadata": {},
   "outputs": [],
   "source": [
    "## Defining Confusion Matrix\n",
    "# Assuming we are taking in 2 np.arrays, with 1 indicating default, 0 non-default.\n",
    "def confusion_matrix(y_actual, y_predicted):\n",
    "    y_actual = np.array(y_actual)\n",
    "    y_predicted = np.array(y_predicted)\n",
    "    tp = ((y_actual == 1) & (y_predicted == 1)).sum()\n",
    "    fp = ((y_actual == 0) & (y_predicted == 1)).sum()\n",
    "    fn = ((y_actual == 1) & (y_predicted == 0)).sum()\n",
    "    tn = ((y_actual == 0) & (y_predicted == 0)).sum()\n",
    "    tpr = tp / (tp + fn)\n",
    "    fpr = fp / (fp + tn)\n",
    "    result = pd.DataFrame({\"Actual True\" : [tp, fn], \"Actual False\": [fp, tn]})\n",
    "    result.rename(index = {0:\"Predicted True\", 1:\"Predicted False\"}, inplace=True)\n",
    "    return result\n",
    "\n",
    "def get_tpr_fpr(confusion_matrix):\n",
    "    tpr = confusion_matrix.iloc[0,0]/(confusion_matrix.iloc[0,0] + confusion_matrix.iloc[1,0])\n",
    "    fpr = confusion_matrix.iloc[0,1]/(confusion_matrix.iloc[0,1] + confusion_matrix.iloc[1,1])\n",
    "    return {\"tpr\":tpr, \"fpr\":fpr}\n",
    "\n",
    "def get_accuracy(y_actual, y_predicted):\n",
    "    y_actual = np.array(y_actual)\n",
    "    y_predicted = np.array(y_predicted)\n",
    "    return (y_actual == y_predicted).mean()\n",
    "\n",
    "def get_tpr(y_actual, y_predicted):\n",
    "    y_actual = np.array(y_actual)\n",
    "    y_predicted = np.array(y_predicted)\n",
    "    tp = ((y_actual == 1) & (y_predicted == 1)).sum()\n",
    "    fp = ((y_actual == 0) & (y_predicted == 1)).sum()\n",
    "    fn = ((y_actual == 1) & (y_predicted == 0)).sum()\n",
    "    tn = ((y_actual == 0) & (y_predicted == 0)).sum()\n",
    "    tpr = tp / (tp + fn)\n",
    "    fpr = fp / (fp + tn)\n",
    "    return tpr\n",
    "\n",
    "def get_fpr(y_actual, y_predicted):\n",
    "    y_actual = np.array(y_actual)\n",
    "    y_predicted = np.array(y_predicted)\n",
    "    tp = ((y_actual == 1) & (y_predicted == 1)).sum()\n",
    "    fp = ((y_actual == 0) & (y_predicted == 1)).sum()\n",
    "    fn = ((y_actual == 1) & (y_predicted == 0)).sum()\n",
    "    tn = ((y_actual == 0) & (y_predicted == 0)).sum()\n",
    "    tpr = tp / (tp + fn)\n",
    "    fpr = fp / (fp + tn)\n",
    "    return fpr\n",
    "\n",
    "## Getting default probability for \n",
    "def get_default_prob(predicted_proba):\n",
    "    temp = pd.DataFrame(predicted_proba)\n",
    "    return np.array(temp[1])"
   ]
  },
  {
   "cell_type": "code",
   "execution_count": 202,
   "metadata": {},
   "outputs": [],
   "source": [
    "## Get the accuracy, tpr, fpr for using each threshold\n",
    "def get_results(y_actual, X, fitted_model):\n",
    "    default_prob = get_default_prob(fitted_model.predict_proba(X))\n",
    "    result = pd.DataFrame({\n",
    "        \"true_label\": y_actual,\n",
    "        \"predicted_probability\": default_prob\n",
    "    })\n",
    "    result.sort_values(\"predicted_probability\", inplace=True)\n",
    "    performances = threshold_performances(result)\n",
    "    result[\"threshold_accuracies\"] = performances[0]\n",
    "    result[\"threshold_tprs\"] = performances[1]\n",
    "    result[\"threshold_fprs\"] = performances[2]\n",
    "    return result\n",
    "\n",
    "def threshold_performance(result, threshold):\n",
    "    predicted_labels = (result[\"predicted_probability\"] >= threshold).astype(int)\n",
    "    accuracy = get_accuracy(result[\"true_label\"], predicted_labels)\n",
    "    tpr = get_tpr(result[\"true_label\"], predicted_labels)\n",
    "    fpr = get_fpr(result[\"true_label\"], predicted_labels)\n",
    "    return [accuracy, tpr, fpr]\n",
    "\n",
    "def threshold_performances(result):\n",
    "    accuracies = []\n",
    "    tprs = []\n",
    "    fprs = []\n",
    "    for p in result[\"predicted_probability\"]:\n",
    "        performance = threshold_performance(result, p)\n",
    "        accuracies.append(performance[0])\n",
    "        tprs.append(performance[1])\n",
    "        fprs.append(performance[2])\n",
    "    return np.array([accuracies, tprs, fprs])\n",
    "\n",
    "def get_best_threshold(result):\n",
    "    return result[result[\"threshold_accuracies\"] == result[\"threshold_accuracies\"].max()]\n",
    "\n",
    "def get_prediction(X_test, fitted_model, threshold):\n",
    "    predicted_prob = get_default_prob(fitted_model.predict_proba(X_test))\n",
    "    return (predicted_prob > threshold).astype(int)"
   ]
  },
  {
   "cell_type": "code",
   "execution_count": 40,
   "metadata": {},
   "outputs": [],
   "source": [
    "# Up sampling\n",
    "from imblearn.over_sampling import SMOTE # doctest: +NORMALIZE_WHITESPACE\n",
    "sm = SMOTE(random_state=42)\n",
    "X_res, y_res = sm.fit_resample(X_train, y_train)"
   ]
  },
  {
   "cell_type": "code",
   "execution_count": 69,
   "metadata": {
    "scrolled": true
   },
   "outputs": [
    {
     "name": "stderr",
     "output_type": "stream",
     "text": [
      "C:\\Users\\nleea\\Anaconda3\\lib\\site-packages\\sklearn\\linear_model\\_logistic.py:939: ConvergenceWarning: lbfgs failed to converge (status=1):\n",
      "STOP: TOTAL NO. of ITERATIONS REACHED LIMIT.\n",
      "\n",
      "Increase the number of iterations (max_iter) or scale the data as shown in:\n",
      "    https://scikit-learn.org/stable/modules/preprocessing.html.\n",
      "Please also refer to the documentation for alternative solver options:\n",
      "    https://scikit-learn.org/stable/modules/linear_model.html#logistic-regression\n",
      "  extra_warning_msg=_LOGISTIC_SOLVER_CONVERGENCE_MSG)\n",
      "C:\\Users\\nleea\\Anaconda3\\lib\\site-packages\\sklearn\\linear_model\\_logistic.py:939: ConvergenceWarning: lbfgs failed to converge (status=1):\n",
      "STOP: TOTAL NO. of ITERATIONS REACHED LIMIT.\n",
      "\n",
      "Increase the number of iterations (max_iter) or scale the data as shown in:\n",
      "    https://scikit-learn.org/stable/modules/preprocessing.html.\n",
      "Please also refer to the documentation for alternative solver options:\n",
      "    https://scikit-learn.org/stable/modules/linear_model.html#logistic-regression\n",
      "  extra_warning_msg=_LOGISTIC_SOLVER_CONVERGENCE_MSG)\n",
      "C:\\Users\\nleea\\Anaconda3\\lib\\site-packages\\sklearn\\linear_model\\_logistic.py:939: ConvergenceWarning: lbfgs failed to converge (status=1):\n",
      "STOP: TOTAL NO. of ITERATIONS REACHED LIMIT.\n",
      "\n",
      "Increase the number of iterations (max_iter) or scale the data as shown in:\n",
      "    https://scikit-learn.org/stable/modules/preprocessing.html.\n",
      "Please also refer to the documentation for alternative solver options:\n",
      "    https://scikit-learn.org/stable/modules/linear_model.html#logistic-regression\n",
      "  extra_warning_msg=_LOGISTIC_SOLVER_CONVERGENCE_MSG)\n",
      "C:\\Users\\nleea\\Anaconda3\\lib\\site-packages\\sklearn\\linear_model\\_logistic.py:939: ConvergenceWarning: lbfgs failed to converge (status=1):\n",
      "STOP: TOTAL NO. of ITERATIONS REACHED LIMIT.\n",
      "\n",
      "Increase the number of iterations (max_iter) or scale the data as shown in:\n",
      "    https://scikit-learn.org/stable/modules/preprocessing.html.\n",
      "Please also refer to the documentation for alternative solver options:\n",
      "    https://scikit-learn.org/stable/modules/linear_model.html#logistic-regression\n",
      "  extra_warning_msg=_LOGISTIC_SOLVER_CONVERGENCE_MSG)\n",
      "C:\\Users\\nleea\\Anaconda3\\lib\\site-packages\\sklearn\\linear_model\\_logistic.py:939: ConvergenceWarning: lbfgs failed to converge (status=1):\n",
      "STOP: TOTAL NO. of ITERATIONS REACHED LIMIT.\n",
      "\n",
      "Increase the number of iterations (max_iter) or scale the data as shown in:\n",
      "    https://scikit-learn.org/stable/modules/preprocessing.html.\n",
      "Please also refer to the documentation for alternative solver options:\n",
      "    https://scikit-learn.org/stable/modules/linear_model.html#logistic-regression\n",
      "  extra_warning_msg=_LOGISTIC_SOLVER_CONVERGENCE_MSG)\n",
      "C:\\Users\\nleea\\Anaconda3\\lib\\site-packages\\sklearn\\linear_model\\_logistic.py:939: ConvergenceWarning: lbfgs failed to converge (status=1):\n",
      "STOP: TOTAL NO. of ITERATIONS REACHED LIMIT.\n",
      "\n",
      "Increase the number of iterations (max_iter) or scale the data as shown in:\n",
      "    https://scikit-learn.org/stable/modules/preprocessing.html.\n",
      "Please also refer to the documentation for alternative solver options:\n",
      "    https://scikit-learn.org/stable/modules/linear_model.html#logistic-regression\n",
      "  extra_warning_msg=_LOGISTIC_SOLVER_CONVERGENCE_MSG)\n",
      "C:\\Users\\nleea\\Anaconda3\\lib\\site-packages\\sklearn\\linear_model\\_logistic.py:939: ConvergenceWarning: lbfgs failed to converge (status=1):\n",
      "STOP: TOTAL NO. of ITERATIONS REACHED LIMIT.\n",
      "\n",
      "Increase the number of iterations (max_iter) or scale the data as shown in:\n",
      "    https://scikit-learn.org/stable/modules/preprocessing.html.\n",
      "Please also refer to the documentation for alternative solver options:\n",
      "    https://scikit-learn.org/stable/modules/linear_model.html#logistic-regression\n",
      "  extra_warning_msg=_LOGISTIC_SOLVER_CONVERGENCE_MSG)\n",
      "C:\\Users\\nleea\\Anaconda3\\lib\\site-packages\\sklearn\\linear_model\\_logistic.py:939: ConvergenceWarning: lbfgs failed to converge (status=1):\n",
      "STOP: TOTAL NO. of ITERATIONS REACHED LIMIT.\n",
      "\n",
      "Increase the number of iterations (max_iter) or scale the data as shown in:\n",
      "    https://scikit-learn.org/stable/modules/preprocessing.html.\n",
      "Please also refer to the documentation for alternative solver options:\n",
      "    https://scikit-learn.org/stable/modules/linear_model.html#logistic-regression\n",
      "  extra_warning_msg=_LOGISTIC_SOLVER_CONVERGENCE_MSG)\n",
      "C:\\Users\\nleea\\Anaconda3\\lib\\site-packages\\sklearn\\linear_model\\_logistic.py:939: ConvergenceWarning: lbfgs failed to converge (status=1):\n",
      "STOP: TOTAL NO. of ITERATIONS REACHED LIMIT.\n",
      "\n",
      "Increase the number of iterations (max_iter) or scale the data as shown in:\n",
      "    https://scikit-learn.org/stable/modules/preprocessing.html.\n",
      "Please also refer to the documentation for alternative solver options:\n",
      "    https://scikit-learn.org/stable/modules/linear_model.html#logistic-regression\n",
      "  extra_warning_msg=_LOGISTIC_SOLVER_CONVERGENCE_MSG)\n"
     ]
    },
    {
     "data": {
      "text/plain": [
       "GridSearchCV(cv=5, error_score=nan,\n",
       "             estimator=LogisticRegression(C=1.0, class_weight=None, dual=False,\n",
       "                                          fit_intercept=True,\n",
       "                                          intercept_scaling=1, l1_ratio=None,\n",
       "                                          max_iter=100, multi_class='auto',\n",
       "                                          n_jobs=None, penalty='l2',\n",
       "                                          random_state=None, solver='lbfgs',\n",
       "                                          tol=0.0001, verbose=0,\n",
       "                                          warm_start=False),\n",
       "             iid='deprecated', n_jobs=None,\n",
       "             param_grid={'C': array([1.00000000e-01, 1.77827941e+00, 3.16227766e+01, 5.62341325e+02,\n",
       "       1.00000000e+04]),\n",
       "                         'penalty': ['l2']},\n",
       "             pre_dispatch='2*n_jobs', refit=True, return_train_score=False,\n",
       "             scoring=None, verbose=0)"
      ]
     },
     "execution_count": 69,
     "metadata": {},
     "output_type": "execute_result"
    },
    {
     "data": {
      "text/plain": [
       "0.8613354786806114"
      ]
     },
     "execution_count": 69,
     "metadata": {},
     "output_type": "execute_result"
    }
   ],
   "source": [
    "## Baseline predictor:\n",
    "penalty = ['l2']\n",
    "C = np.logspace(-1, 4, 5)\n",
    "hyperparameters = dict(C=C, penalty=penalty)\n",
    "base_clf = linear_model.LogisticRegression()\n",
    "logistic_unbalanced = GridSearchCV(base_clf, hyperparameters, cv=5, verbose=0)\n",
    "logistic_unbalanced.fit(X_train, y_train)\n",
    "logistic_unbalanced.score(X_train, y_train)"
   ]
  },
  {
   "cell_type": "code",
   "execution_count": 72,
   "metadata": {
    "scrolled": true
   },
   "outputs": [
    {
     "data": {
      "text/plain": [
       "GridSearchCV(cv=5, error_score=nan,\n",
       "             estimator=LogisticRegression(C=1.0, class_weight='balanced',\n",
       "                                          dual=False, fit_intercept=True,\n",
       "                                          intercept_scaling=1, l1_ratio=None,\n",
       "                                          max_iter=100, multi_class='auto',\n",
       "                                          n_jobs=None, penalty='l2',\n",
       "                                          random_state=None, solver='lbfgs',\n",
       "                                          tol=0.0001, verbose=0,\n",
       "                                          warm_start=False),\n",
       "             iid='deprecated', n_jobs=None,\n",
       "             param_grid={'C': array([1.00000000e-01, 1.77827941e+00, 3.16227766e+01, 5.62341325e+02,\n",
       "       1.00000000e+04]),\n",
       "                         'penalty': ['l2']},\n",
       "             pre_dispatch='2*n_jobs', refit=True, return_train_score=False,\n",
       "             scoring=None, verbose=0)"
      ]
     },
     "execution_count": 72,
     "metadata": {},
     "output_type": "execute_result"
    },
    {
     "data": {
      "text/plain": [
       "0.5382461786001609"
      ]
     },
     "execution_count": 72,
     "metadata": {},
     "output_type": "execute_result"
    }
   ],
   "source": [
    "## Baseline predictor with balanced weights:\n",
    "penalty = ['l2']\n",
    "C = np.logspace(-1, 4, 5)\n",
    "hyperparameters = dict(C=C, penalty=penalty)\n",
    "base_clf2 = linear_model.LogisticRegression(class_weight=\"balanced\")\n",
    "logistic_balanced = GridSearchCV(base_clf2, hyperparameters, cv=5, verbose=0)\n",
    "logistic_balanced.fit(X_train, y_train)\n",
    "logistic_balanced.score(X_train, y_train)"
   ]
  },
  {
   "cell_type": "markdown",
   "metadata": {},
   "source": [
    "### Comparing logistics regression with balanced and unbalanced class weight"
   ]
  },
  {
   "cell_type": "code",
   "execution_count": 220,
   "metadata": {
    "scrolled": true
   },
   "outputs": [
    {
     "name": "stdout",
     "output_type": "stream",
     "text": [
      "Wall time: 1min 51s\n"
     ]
    }
   ],
   "source": [
    "%%time\n",
    "result_logistics_balanced = get_results(y_train, X_train, logistic_balanced)\n",
    "result_logistics_unbalanced = get_results(y_train, X_train, logistic_unbalanced)"
   ]
  },
  {
   "cell_type": "code",
   "execution_count": 221,
   "metadata": {},
   "outputs": [
    {
     "data": {
      "text/html": [
       "<div>\n",
       "<style scoped>\n",
       "    .dataframe tbody tr th:only-of-type {\n",
       "        vertical-align: middle;\n",
       "    }\n",
       "\n",
       "    .dataframe tbody tr th {\n",
       "        vertical-align: top;\n",
       "    }\n",
       "\n",
       "    .dataframe thead th {\n",
       "        text-align: right;\n",
       "    }\n",
       "</style>\n",
       "<table border=\"1\" class=\"dataframe\">\n",
       "  <thead>\n",
       "    <tr style=\"text-align: right;\">\n",
       "      <th></th>\n",
       "      <th>true_label</th>\n",
       "      <th>predicted_probability</th>\n",
       "      <th>threshold_accuracies</th>\n",
       "      <th>threshold_tprs</th>\n",
       "      <th>threshold_fprs</th>\n",
       "    </tr>\n",
       "  </thead>\n",
       "  <tbody>\n",
       "    <tr>\n",
       "      <td>4703</td>\n",
       "      <td>0</td>\n",
       "      <td>0.690791</td>\n",
       "      <td>0.861303</td>\n",
       "      <td>0.0</td>\n",
       "      <td>0.000037</td>\n",
       "    </tr>\n",
       "  </tbody>\n",
       "</table>\n",
       "</div>"
      ],
      "text/plain": [
       "      true_label  predicted_probability  threshold_accuracies  threshold_tprs  \\\n",
       "4703           0               0.690791              0.861303             0.0   \n",
       "\n",
       "      threshold_fprs  \n",
       "4703        0.000037  "
      ]
     },
     "execution_count": 221,
     "metadata": {},
     "output_type": "execute_result"
    },
    {
     "data": {
      "text/html": [
       "<div>\n",
       "<style scoped>\n",
       "    .dataframe tbody tr th:only-of-type {\n",
       "        vertical-align: middle;\n",
       "    }\n",
       "\n",
       "    .dataframe tbody tr th {\n",
       "        vertical-align: top;\n",
       "    }\n",
       "\n",
       "    .dataframe thead th {\n",
       "        text-align: right;\n",
       "    }\n",
       "</style>\n",
       "<table border=\"1\" class=\"dataframe\">\n",
       "  <thead>\n",
       "    <tr style=\"text-align: right;\">\n",
       "      <th></th>\n",
       "      <th>true_label</th>\n",
       "      <th>predicted_probability</th>\n",
       "      <th>threshold_accuracies</th>\n",
       "      <th>threshold_tprs</th>\n",
       "      <th>threshold_fprs</th>\n",
       "    </tr>\n",
       "  </thead>\n",
       "  <tbody>\n",
       "    <tr>\n",
       "      <td>18017</td>\n",
       "      <td>1</td>\n",
       "      <td>0.405872</td>\n",
       "      <td>0.861368</td>\n",
       "      <td>0.000232</td>\n",
       "      <td>0.0</td>\n",
       "    </tr>\n",
       "  </tbody>\n",
       "</table>\n",
       "</div>"
      ],
      "text/plain": [
       "       true_label  predicted_probability  threshold_accuracies  \\\n",
       "18017           1               0.405872              0.861368   \n",
       "\n",
       "       threshold_tprs  threshold_fprs  \n",
       "18017        0.000232             0.0  "
      ]
     },
     "execution_count": 221,
     "metadata": {},
     "output_type": "execute_result"
    }
   ],
   "source": [
    "get_best_threshold(result_logistics_balanced)\n",
    "get_best_threshold(result_logistics_unbalanced)"
   ]
  },
  {
   "cell_type": "code",
   "execution_count": 226,
   "metadata": {},
   "outputs": [
    {
     "data": {
      "text/plain": [
       "<matplotlib.axes._subplots.AxesSubplot at 0x259bf823a08>"
      ]
     },
     "execution_count": 226,
     "metadata": {},
     "output_type": "execute_result"
    },
    {
     "data": {
      "text/plain": [
       "Text(0.5, 1.0, 'ROC curve for Logistics Regression with Balanced Class Weight')"
      ]
     },
     "execution_count": 226,
     "metadata": {},
     "output_type": "execute_result"
    },
    {
     "data": {
      "text/plain": [
       "<matplotlib.axes._subplots.AxesSubplot at 0x259bf4bff48>"
      ]
     },
     "execution_count": 226,
     "metadata": {},
     "output_type": "execute_result"
    },
    {
     "data": {
      "text/plain": [
       "Text(0.5, 1.0, 'ROC curve for Logistics Regression with Unbalanced Class Weight')"
      ]
     },
     "execution_count": 226,
     "metadata": {},
     "output_type": "execute_result"
    },
    {
     "data": {
      "image/png": "[encoded data removed]",
      "text/plain": [
       "<Figure size 720x720 with 2 Axes>"
      ]
     },
     "metadata": {
      "needs_background": "light"
     },
     "output_type": "display_data"
    }
   ],
   "source": [
    "fig = plt.figure(figsize=(10,10))\n",
    "ax1 = plt.subplot(211)\n",
    "index = np.random.choice(result.shape[0], size=result.shape[0]//300)\n",
    "sns.scatterplot(data=result_logistics_balanced.loc[index, :], x=\"threshold_fprs\", y=\"threshold_tprs\", hue=\"threshold_accuracies\", ax=ax1)\n",
    "ax1.set_title(\"ROC curve for Logistics Regression with Balanced Class Weight\")\n",
    "ax2 = plt.subplot(212)\n",
    "sns.scatterplot(data=result_logistics_unbalanced.loc[index, :], x=\"threshold_fprs\", y=\"threshold_tprs\", hue=\"threshold_accuracies\", ax=ax2)\n",
    "ax2.set_title(\"ROC curve for Logistics Regression with Unbalanced Class Weight\")"
   ]
  },
  {
   "cell_type": "code",
   "execution_count": 206,
   "metadata": {},
   "outputs": [],
   "source": []
  },
  {
   "cell_type": "code",
   "execution_count": 209,
   "metadata": {},
   "outputs": [
    {
     "data": {
      "text/plain": [
       "0.8245860230143138"
      ]
     },
     "execution_count": 209,
     "metadata": {},
     "output_type": "execute_result"
    },
    {
     "name": "stderr",
     "output_type": "stream",
     "text": [
      "C:\\Users\\nleea\\Anaconda3\\lib\\site-packages\\ipykernel_launcher.py:33: RuntimeWarning: invalid value encountered in long_scalars\n"
     ]
    },
    {
     "data": {
      "text/plain": [
       "nan"
      ]
     },
     "execution_count": 209,
     "metadata": {},
     "output_type": "execute_result"
    }
   ],
   "source": []
  },
  {
   "cell_type": "code",
   "execution_count": 215,
   "metadata": {},
   "outputs": [
    {
     "data": {
      "text/plain": [
       "0.0"
      ]
     },
     "execution_count": 215,
     "metadata": {},
     "output_type": "execute_result"
    },
    {
     "data": {
      "text/plain": [
       "0.0"
      ]
     },
     "execution_count": 215,
     "metadata": {},
     "output_type": "execute_result"
    }
   ],
   "source": [
    "get_tpr(y_test, pred)\n",
    "get_fpr(y_test, pred)"
   ]
  },
  {
   "cell_type": "code",
   "execution_count": 129,
   "metadata": {},
   "outputs": [],
   "source": [
    "pred_probs = np.array(temp[\"predicted_probability\"])"
   ]
  },
  {
   "cell_type": "code",
   "execution_count": 134,
   "metadata": {},
   "outputs": [
    {
     "data": {
      "text/plain": [
       "array([5.28960346e-31, 1.10007515e-04, 2.15062861e-03, ...,\n",
       "       3.39686162e-01, 3.52816287e-01, 3.72042493e-01])"
      ]
     },
     "execution_count": 134,
     "metadata": {},
     "output_type": "execute_result"
    }
   ],
   "source": [
    "indices = range(0, pred_probs.size, pred_probs.size//1000)\n",
    "pred_probs[indices]"
   ]
  },
  {
   "cell_type": "code",
   "execution_count": 216,
   "metadata": {},
   "outputs": [],
   "source": [
    "from sklearn import svm"
   ]
  },
  {
   "cell_type": "code",
   "execution_count": 218,
   "metadata": {},
   "outputs": [
    {
     "data": {
      "text/plain": [
       "SVC(C=10, break_ties=False, cache_size=200, class_weight='balanced', coef0=0.0,\n",
       "    decision_function_shape='ovr', degree=3, gamma=1, kernel='rbf', max_iter=-1,\n",
       "    probability=False, random_state=None, shrinking=True, tol=0.001,\n",
       "    verbose=False)"
      ]
     },
     "execution_count": 218,
     "metadata": {},
     "output_type": "execute_result"
    }
   ],
   "source": [
    "clf_svc = svm.SVC(class_weight=\"balanced\", gamma=1, C=10)\n",
    "clf_svc.fit(X_train, y_train)"
   ]
  },
  {
   "cell_type": "code",
   "execution_count": 219,
   "metadata": {},
   "outputs": [
    {
     "data": {
      "text/plain": [
       "0.8245860230143138"
      ]
     },
     "execution_count": 219,
     "metadata": {},
     "output_type": "execute_result"
    }
   ],
   "source": [
    "clf_svc.score(X_test, y_test)"
   ]
  }
 ],
 "metadata": {
  "kernelspec": {
   "display_name": "Python 3",
   "language": "python",
   "name": "python3"
  },
  "language_info": {
   "codemirror_mode": {
    "name": "ipython",
    "version": 3
   },
   "file_extension": ".py",
   "mimetype": "text/x-python",
   "name": "python",
   "nbconvert_exporter": "python",
   "pygments_lexer": "ipython3",
   "version": "3.7.4"
  }
 },
 "nbformat": 4,
 "nbformat_minor": 2
}
