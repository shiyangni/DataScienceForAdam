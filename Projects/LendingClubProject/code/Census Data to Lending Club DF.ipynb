{
 "cells": [
  {
   "cell_type": "markdown",
   "metadata": {},
   "source": [
    "# 2006-2010 Census Data cleaning and integrating with LC Data"
   ]
  },
  {
   "cell_type": "markdown",
   "metadata": {},
   "source": [
    "\n",
    "The data provided by the census has the geographical categories as county codes. However Lending club data has only three digit zip code. We downloaded a mapping from Missouri Census Data Center to map three digit zip codes to county codes.\n",
    "\n",
    "http://mcdc.missouri.edu/applications/geocorr2014.html\n",
    "\n",
    "We know that for each county code, there will be an associated three digit zip code. However there might be more than one county code for each three digit zip code. Therefore we create a dictionary to assign a 3 digit zip code for each county code, which will be used to calculate 3 digit zip code level census data."
   ]
  },
  {
   "cell_type": "code",
   "execution_count": 2,
   "metadata": {
    "collapsed": true
   },
   "outputs": [
    {
     "ename": "NameError",
     "evalue": "name 'pd' is not defined",
     "output_type": "error",
     "traceback": [
      "\u001b[1;31m---------------------------------------------------------------------------\u001b[0m",
      "\u001b[1;31mNameError\u001b[0m                                 Traceback (most recent call last)",
      "\u001b[1;32m<ipython-input-2-7274fbd12497>\u001b[0m in \u001b[0;36m<module>\u001b[1;34m\u001b[0m\n\u001b[0;32m      1\u001b[0m \u001b[1;31m#Read the Missouri Data Science Center Zip Code County Code Map file\u001b[0m\u001b[1;33m\u001b[0m\u001b[1;33m\u001b[0m\u001b[1;33m\u001b[0m\u001b[0m\n\u001b[1;32m----> 2\u001b[1;33m \u001b[0mzip_county_map\u001b[0m \u001b[1;33m=\u001b[0m \u001b[0mpd\u001b[0m\u001b[1;33m.\u001b[0m\u001b[0mread_csv\u001b[0m\u001b[1;33m(\u001b[0m\u001b[1;34m\"../data/census_data/zip_county_2010.csv\"\u001b[0m\u001b[1;33m,\u001b[0m\u001b[0mencoding\u001b[0m\u001b[1;33m=\u001b[0m\u001b[1;34m\"latin-1\"\u001b[0m\u001b[1;33m,\u001b[0m\u001b[0mdtype\u001b[0m\u001b[1;33m=\u001b[0m\u001b[0mstr\u001b[0m\u001b[1;33m)\u001b[0m\u001b[1;33m\u001b[0m\u001b[1;33m\u001b[0m\u001b[0m\n\u001b[0m\u001b[0;32m      3\u001b[0m \u001b[1;33m\u001b[0m\u001b[0m\n\u001b[0;32m      4\u001b[0m \u001b[1;31m#necessary columns\u001b[0m\u001b[1;33m\u001b[0m\u001b[1;33m\u001b[0m\u001b[1;33m\u001b[0m\u001b[0m\n\u001b[0;32m      5\u001b[0m \u001b[0mzip_county_map_columns\u001b[0m \u001b[1;33m=\u001b[0m\u001b[1;33m[\u001b[0m\u001b[1;34m'ZIP census tabulation area'\u001b[0m\u001b[1;33m,\u001b[0m \u001b[1;34m'County code'\u001b[0m\u001b[1;33m]\u001b[0m\u001b[1;33m\u001b[0m\u001b[1;33m\u001b[0m\u001b[0m\n",
      "\u001b[1;31mNameError\u001b[0m: name 'pd' is not defined"
     ]
    }
   ],
   "source": [
    "\n",
    "#Read the Missouri Data Science Center Zip Code County Code Map file\n",
    "zip_county_map = pd.read_csv(\"../data/census_data/zip_census_tract.csv\",encoding=\"latin-1\",dtype=str)\n",
    "\n",
    "#necessary columns\n",
    "zip_county_map_columns =['ZIP census tabulation area', 'County code',\"Tract\"]\n",
    "zip_county_map[\"Tract\"]=zip_county_map[\"Tract\"].str.replace('.',\"\")\n",
    "\n",
    "zip_county_map[\"County Tract Code\"]=zip_county_map[\"County code\"]+zip_county_map[\"Tract\"]\n",
    "\n",
    "zip_county_map_columns =['ZIP census tabulation area', 'County Tract Code']\n",
    "\n",
    "zip_county_map_drop_cols=[x for x in zip_county_map if x not in zip_county_map_columns]\n",
    "\n",
    "#drop unnecessary columns\n",
    "zip_county_map.drop(columns=zip_county_map_drop_cols, axis=0,inplace=True)\n",
    "\n",
    "\n",
    "#calculate 3 digit zip code\n",
    "\n",
    "zip_county_map[\"3 Digit Zip\"]= [x[:3] if len(x)==5 else x[:2] for x in zip_county_map['ZIP census tabulation area']]\n",
    "\n",
    "county_zip_map=dict(zip(zip_county_map[\"County Tract Code\"],zip_county_map[\"3 Digit Zip\"]))"
   ]
  },
  {
   "cell_type": "markdown",
   "metadata": {},
   "source": [
    "Per capita income, median house value, median gross rent, and unemployed population over 16 years old data is obtained from the American Cummunity Survey.\n",
    "\n",
    "We download the dictionary for the variable names in the data. Strip white spaces and store in a dictionary file"
   ]
  },
  {
   "cell_type": "code",
   "execution_count": 3,
   "metadata": {
    "collapsed": true
   },
   "outputs": [
    {
     "ename": "NameError",
     "evalue": "name 'pd' is not defined",
     "output_type": "error",
     "traceback": [
      "\u001b[1;31m---------------------------------------------------------------------------\u001b[0m",
      "\u001b[1;31mNameError\u001b[0m                                 Traceback (most recent call last)",
      "\u001b[1;32m<ipython-input-3-c4ef7024f8d5>\u001b[0m in \u001b[0;36m<module>\u001b[1;34m\u001b[0m\n\u001b[0;32m      1\u001b[0m \u001b[1;31m#Read the American Community Survey Dictionary file\u001b[0m\u001b[1;33m\u001b[0m\u001b[1;33m\u001b[0m\u001b[1;33m\u001b[0m\u001b[0m\n\u001b[1;32m----> 2\u001b[1;33m \u001b[0mcensus_dict\u001b[0m \u001b[1;33m=\u001b[0m \u001b[0mpd\u001b[0m\u001b[1;33m.\u001b[0m\u001b[0mread_excel\u001b[0m\u001b[1;33m(\u001b[0m\u001b[1;34m\"../data/census_data/census_dictionary.xlsx\"\u001b[0m\u001b[1;33m)\u001b[0m\u001b[1;33m\u001b[0m\u001b[1;33m\u001b[0m\u001b[0m\n\u001b[0m\u001b[0;32m      3\u001b[0m \u001b[1;33m\u001b[0m\u001b[0m\n\u001b[0;32m      4\u001b[0m \u001b[1;31m#remove extra columns that will not be used\u001b[0m\u001b[1;33m\u001b[0m\u001b[1;33m\u001b[0m\u001b[1;33m\u001b[0m\u001b[0m\n\u001b[0;32m      5\u001b[0m \u001b[0mcensus_dict\u001b[0m\u001b[1;33m.\u001b[0m\u001b[0mdrop\u001b[0m\u001b[1;33m(\u001b[0m\u001b[0mcolumns\u001b[0m\u001b[1;33m=\u001b[0m\u001b[1;33m[\u001b[0m\u001b[0mx\u001b[0m \u001b[1;32mfor\u001b[0m \u001b[0mx\u001b[0m \u001b[1;32min\u001b[0m \u001b[0mcensus_dict\u001b[0m\u001b[1;33m.\u001b[0m\u001b[0mcolumns\u001b[0m \u001b[1;32mif\u001b[0m \u001b[0mx\u001b[0m \u001b[1;32mnot\u001b[0m \u001b[1;32min\u001b[0m \u001b[1;33m[\u001b[0m\u001b[1;34m\"      Code\"\u001b[0m\u001b[1;33m,\u001b[0m\u001b[1;34m\"           Description    \"\u001b[0m\u001b[1;33m]\u001b[0m\u001b[1;33m]\u001b[0m\u001b[1;33m,\u001b[0m\u001b[0minplace\u001b[0m\u001b[1;33m=\u001b[0m\u001b[1;32mTrue\u001b[0m\u001b[1;33m)\u001b[0m\u001b[1;33m\u001b[0m\u001b[1;33m\u001b[0m\u001b[0m\n",
      "\u001b[1;31mNameError\u001b[0m: name 'pd' is not defined"
     ]
    }
   ],
   "source": [
    "#Read the American Community Survey Dictionary file\n",
    "census_dict = pd.read_csv(\"../data/census_data/census_dictionary.csv\")\n",
    "\n",
    "#remove extra columns that will not be used\n",
    "census_dict.drop(columns=[x for x in census_dict.columns if x not in [\"Code\",\"Description\"]],inplace=True)\n",
    "\n",
    "#rename the column name so that the whitespace is trimmed.\n",
    "census_dict.columns=census_dict.columns.str.lstrip().str.rstrip()\n",
    "\n",
    "#remove whitespace before and after string\n",
    "census_dict[\"Code\"]=census_dict[\"Code\"].str.lstrip().str.rstrip()\n",
    "# census_dict[\"FIPS\"]=census_dict[\"FIPS\"].str.rstrip(\" \")\n",
    "\n",
    "census_code_dict = dict(zip(census_dict[\"Code\"],census_dict[\"Description\"]))\n",
    "census_description_dict = dict(zip(census_dict[\"Description\"],census_dict[\"Code\"]))"
   ]
  },
  {
   "cell_type": "markdown",
   "metadata": {},
   "source": [
    "For the per capita income, Total Population over 16 Years Old, Total Population variables, we will simply sum each county code in the 3 digit zip code level. \n",
    "\n",
    "However, for median house value and median gross rent, the underlying data is not available.\n",
    "Therefore although it is not absolutely correct, we average these variables to get average median house value  and average median gross rent for each three digit zip code.\n",
    "\n",
    "Below is the weighted average function to be applied. "
   ]
  },
  {
   "cell_type": "code",
   "execution_count": 4,
   "metadata": {},
   "outputs": [],
   "source": [
    "def weighted_average_funct(group, avg_name, weight_name):\n",
    "    \"\"\" http://stackoverflow.com/questions/10951341/pandas-dataframe-aggregate-function-using-multiple-columns\n",
    "    In rare instance, we may not have weights, so just return the mean. Customize this if your business case\n",
    "    should return otherwise.\n",
    "    \"\"\"\n",
    "    d = group[avg_name]\n",
    "    w = group[weight_name]\n",
    "    try:\n",
    "        return (d * w).sum() / w.sum()\n",
    "    except ZeroDivisionError:\n",
    "        return d.mean()"
   ]
  },
  {
   "cell_type": "markdown",
   "metadata": {},
   "source": [
    "Read the American Census data csv file, specifying the data type for the variables that will be used."
   ]
  },
  {
   "cell_type": "code",
   "execution_count": null,
   "metadata": {},
   "outputs": [],
   "source": [
    "#read the American Community Survey (2006-2010) data.\n",
    "#Data is about 67mb.\n",
    "#source is Social Explorer, granted a student licence through Rutgers University.\n",
    "#encoding of the source file is Western Latin-1 (ISO-8859-1)\n",
    "\n",
    "census_data = pd.read_csv(\"../data/census_data/ACS_2006_2010_census_tract.csv\",encoding =\"latin-1\",\n",
    "                         dtype={\"Geo_FIPS\": str,\n",
    "                                census_description_dict['     Total Population    ']: np.int64,\n",
    "                                census_description_dict['     Civilian Population in Labor Force 16 Years and Over    ']: np.int64,\n",
    "                                census_description_dict['     Civilian Population in Labor Force 16 Years and Over  Unemployed   ']: np.int64,\n",
    "                                census_description_dict['     Per Capita Income (In 2010 Inflation Adjusted Dollars)    ']: np.float64,\n",
    "                                census_description_dict['     Median Value    ']: np.float64,\n",
    "                                census_description_dict['     Median Gross Rent    ']: np.float64,})\n"
   ]
  },
  {
   "cell_type": "markdown",
   "metadata": {},
   "source": [
    "Below we clean out the column names, change the variable codes to descriptions, drop unnecessary columns"
   ]
  },
  {
   "cell_type": "code",
   "execution_count": null,
   "metadata": {},
   "outputs": [],
   "source": [
    "\n",
    "#strip the variable categorical indicators and underscores\n",
    "census_data.columns=census_data.columns.str.lstrip(\"Geo\")\n",
    "census_data.columns=census_data.columns.str.lstrip(\"SE\")\n",
    "census_data.columns=census_data.columns.str.lstrip(\"_\")\n",
    "\n",
    "#replace variable codes with variable names\n",
    "census_data.columns=[x if x not in census_code_dict else census_code_dict[x] for x in census_data.columns]\n",
    "\n",
    "#columns to keep from the data source, we will drop every other column\n",
    "census_data_columns_keep = ['FIPS',\n",
    "                        '     Total Population    ',\n",
    "                       '     Civilian Population in Labor Force 16 Years and Over    ',\n",
    "                       '     Civilian Population in Labor Force 16 Years and Over  Unemployed   ',\n",
    "                       '     Per Capita Income (In 2010 Inflation Adjusted Dollars)    ',\n",
    "                       '     Median Value    ',\n",
    "                        '     Median Gross Rent    ']\n",
    "\n",
    "#columns to remove\n",
    "census_data_columns_remove=[x for x in census_data.columns if x not in census_data_columns_keep]\n",
    "\n",
    "#drop columns\n",
    "census_data.drop(columns=census_data_columns_remove,inplace=True)\n",
    "\n",
    "#strip whitespace from end and beginning\n",
    "census_data.columns=census_data.columns.str.lstrip().str.rstrip()\n",
    "\n",
    "#rename the column names\n",
    "census_data_columns_newnames = ['County Tract Code',\n",
    "                                'Total Population',\n",
    "                                'Total Population over 16 Years Old',\n",
    "                                'Unemployed',\n",
    "                                'Per Capita Income',\n",
    "                                'Median House Value', \n",
    "                                'Median Gross Rent']\n",
    "\n",
    "census_data.columns = census_data_columns_newnames\n"
   ]
  },
  {
   "cell_type": "markdown",
   "metadata": {},
   "source": [
    "We now map the the zip code information in the census data for each county code."
   ]
  },
  {
   "cell_type": "code",
   "execution_count": null,
   "metadata": {},
   "outputs": [],
   "source": [
    "\n",
    "census_data[\"County Tract Code\"]=census_data[\"County Tract Code\"].astype(str)\n",
    "\n",
    "census_data[\"3 Digit Zip Code\"]=census_data['County Tract Code'].map(county_zip_map)\n",
    "\n",
    "#number of unique values for 3 digit zip code in the census data\n",
    "census_data[\"3 Digit Zip Code\"].nunique()\n"
   ]
  },
  {
   "cell_type": "markdown",
   "metadata": {},
   "source": [
    "We now calculate the weighted average of the four county wide data to obtaine zip code level data for median house value and gross rent simply sum other variables.\n",
    "\n",
    "We also calculate the unemployment rate from the unemployed population data and we combine everything in the original dataframe\n",
    "\n"
   ]
  },
  {
   "cell_type": "code",
   "execution_count": null,
   "metadata": {},
   "outputs": [],
   "source": [
    "\n",
    "\n",
    "#We now calculate the weighted average of the four county wide data to obtaine zip code level data for median house value and gross rent\n",
    "\n",
    "census_group_house_value= census_data.groupby(\"3 Digit Zip Code\").apply(weighted_average_applyFunct,\"Median House Value\",\"Total Population\").reset_index(name='Average Median House Value')\n",
    "census_group_rent= census_data.groupby(\"3 Digit Zip Code\").apply(weighted_average_applyFunct,\"Median Gross Rent\",\"Total Population\").reset_index(name='Average Median Gross Rent')\n",
    "census_group_per_capita= census_data.groupby(\"3 Digit Zip Code\").apply(weighted_average_applyFunct,\"Per Capita Income\",\"Total Population\").reset_index(name='Per Capita Income')\n",
    "\n",
    "f = {'Total Population': sum, 'Total Population over 16 Years Old': sum,\"Unemployed\": sum}\n",
    "census_group_main= census_data.groupby(\"3 Digit Zip Code\").agg(f)\n",
    "\n",
    "#calculate simple unemployment statistics\n",
    "census_group_main[\"Unemployment Rate\"]=census_group_main[\"Unemployed\"]/census_group_main[\"Total Population over 16 Years Old\"]\n",
    "\n",
    "census_group_main.reset_index(inplace=True)\n",
    "\n",
    "census_group_main.drop(columns=[\"Total Population over 16 Years Old\"],inplace=True)\n",
    "\n",
    "\n",
    "census_group_main[\"Average Median House Value\"]= census_group_house_value[\"Average Median House Value\"]\n",
    "census_group_main[\"Average Median Gross Rent\"]= census_group_rent[\"Average Median Gross Rent\"]\n",
    "census_group_main[\"Per Capita Income\"]= census_group_per_capita[\"Per Capita Income\"]\n",
    "\n",
    "\n",
    "# census_group_main[\"Average Median Gross Rent\"]=census_group_house_value\n",
    "\n",
    "census_data=census_group_main\n",
    "\n",
    "census_data.head()\n",
    "\n"
   ]
  },
  {
   "cell_type": "markdown",
   "metadata": {},
   "source": [
    "Now that we have the census data for almost all of the 3 digit zip codes, we need to assign the values in our original training dataframe."
   ]
  },
  {
   "cell_type": "code",
   "execution_count": null,
   "metadata": {},
   "outputs": [],
   "source": [
    "# unemployment_dict=dict(zip(census_data['County Code'],census_data[\"Unemployment Rate\"]))\n",
    "per_capita_income_dict=dict(zip(census_data['3 Digit Zip Code'],census_data[\"Per Capita Income\"]))\n",
    "total_population_dict=dict(zip(census_data['3 Digit Zip Code'],census_data[\"Total Population\"]))\n",
    "average_median_house_value_dict=dict(zip(census_data['3 Digit Zip Code'],census_data[\"Average Median House Value\"]))\n",
    "average_median_rent_dict=dict(zip(census_data['3 Digit Zip Code'],census_data[\"Average Median Gross Rent\"]))\n",
    "unemployment_dict=dict(zip(census_data['3 Digit Zip Code'],census_data[\"Unemployment Rate\"]))\n",
    "\n",
    "\n",
    "def add_county_data(lendingclub_df):\n",
    "    \n",
    "    #first create a three digit zip code from the 5 digit code.\n",
    "    lendingclub_df[\"3 Digit Zip Code\"]=lendingclub_df[\"Zip Code\"].str.rstrip(\"xx\").str.lstrip(\"0\")\n",
    "    \n",
    "    #now add census data\n",
    "    lendingclub_df[\"Unemployment Rate\"]=lendingclub_df[\"3 Digit Zip Code\"].map(unemployment_dict)\n",
    "    lendingclub_df[\"Average Median Gross Rent\"]=lendingclub_df[\"3 Digit Zip Code\"].map(average_median_rent_dict)\n",
    "    lendingclub_df[\"Average Median House Value\"]=lendingclub_df[\"3 Digit Zip Code\"].map(average_median_house_value_dict)\n",
    "    lendingclub_df[\"Total Population\"]=lendingclub_df[\"3 Digit Zip Code\"].map(total_population_dict)\n",
    "    lendingclub_df[\"Per Capita Income\"]=lendingclub_df[\"3 Digit Zip Code\"].map(per_capita_income_dict)\n",
    "\n",
    "    \n",
    "    return lendingclub_df\n",
    "\n",
    "training_nonempty.pipe(add_county_data)"
   ]
  }
 ],
 "metadata": {
  "kernelspec": {
   "display_name": "Python 3",
   "language": "python",
   "name": "python3"
  },
  "language_info": {
   "codemirror_mode": {
    "name": "ipython",
    "version": 3
   },
   "file_extension": ".py",
   "mimetype": "text/x-python",
   "name": "python",
   "nbconvert_exporter": "python",
   "pygments_lexer": "ipython3",
   "version": "3.7.4"
  }
 },
 "nbformat": 4,
 "nbformat_minor": 2
}
